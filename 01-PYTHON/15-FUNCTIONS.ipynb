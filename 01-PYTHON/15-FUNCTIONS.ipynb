{
 "cells": [
  {
   "cell_type": "code",
   "execution_count": 2,
   "id": "d5a4f38c-a2e8-4cf3-a3d7-fb5f95a29cc7",
   "metadata": {},
   "outputs": [],
   "source": [
    "myName = \"emre\""
   ]
  },
  {
   "cell_type": "code",
   "execution_count": 6,
   "id": "5cbeeb21-4237-4bf9-a2ce-bcefca78fb0f",
   "metadata": {},
   "outputs": [
    {
     "data": {
      "text/plain": [
       "'Emre'"
      ]
     },
     "execution_count": 6,
     "metadata": {},
     "output_type": "execute_result"
    }
   ],
   "source": [
    "myName.capitalize()"
   ]
  },
  {
   "cell_type": "code",
   "execution_count": 8,
   "id": "d30c2fed-974c-4a29-8436-fa4b7dd8287e",
   "metadata": {},
   "outputs": [
    {
     "data": {
      "text/plain": [
       "'EMRE'"
      ]
     },
     "execution_count": 8,
     "metadata": {},
     "output_type": "execute_result"
    }
   ],
   "source": [
    "myName.upper()"
   ]
  },
  {
   "cell_type": "code",
   "execution_count": 18,
   "id": "1cc110bc-9b55-4bb8-99b8-4df56631bacf",
   "metadata": {},
   "outputs": [
    {
     "data": {
      "text/plain": [
       "'emre'"
      ]
     },
     "execution_count": 18,
     "metadata": {},
     "output_type": "execute_result"
    }
   ],
   "source": [
    "myName # KULLANDIĞIMIZ METHODLAR STRINGI DEĞİŞTİRMEDİ. ÇÜNKÜ SADECE RETURN EDER!!!!"
   ]
  },
  {
   "cell_type": "code",
   "execution_count": 20,
   "id": "6175aa00-2484-41db-8370-42d7f5866431",
   "metadata": {},
   "outputs": [
    {
     "data": {
      "text/plain": [
       "'EMRE'"
      ]
     },
     "execution_count": 20,
     "metadata": {},
     "output_type": "execute_result"
    }
   ],
   "source": [
    "myNameUpper = myName.upper()\n",
    "\n",
    "myNameUpper"
   ]
  },
  {
   "cell_type": "markdown",
   "id": "f74c2ca2-f970-45dc-a8c0-609eab7c9088",
   "metadata": {},
   "source": [
    "# FUNCTIONS"
   ]
  },
  {
   "cell_type": "code",
   "execution_count": 27,
   "id": "6bd370d9-bb91-4744-ba58-cf2beeff44f4",
   "metadata": {},
   "outputs": [],
   "source": [
    "def hello_python():\n",
    "    print(\"hello\")\n",
    "    print(\"python!\")"
   ]
  },
  {
   "cell_type": "code",
   "execution_count": 35,
   "id": "e1303012-b108-43ce-b178-1e846149eb37",
   "metadata": {},
   "outputs": [
    {
     "name": "stdout",
     "output_type": "stream",
     "text": [
      "hello\n",
      "python!\n"
     ]
    }
   ],
   "source": [
    "hello_python()"
   ]
  },
  {
   "cell_type": "code",
   "execution_count": 37,
   "id": "dca82fe9-c0e2-4995-b87b-4d2ac37c08dd",
   "metadata": {},
   "outputs": [],
   "source": [
    "def hello_name(name):\n",
    "    print(\"hello\")\n",
    "    print(name)"
   ]
  },
  {
   "cell_type": "code",
   "execution_count": 43,
   "id": "f126d16b-80ce-47f4-bbc2-cd916ac730fb",
   "metadata": {},
   "outputs": [
    {
     "name": "stdout",
     "output_type": "stream",
     "text": [
      "hello\n",
      "emre\n"
     ]
    }
   ],
   "source": [
    "name = \"emre\"\n",
    "\n",
    "hello_name(name)"
   ]
  },
  {
   "cell_type": "code",
   "execution_count": 45,
   "id": "bc4a127d-e38e-4967-9be0-fb9d7dd78467",
   "metadata": {},
   "outputs": [
    {
     "name": "stdout",
     "output_type": "stream",
     "text": [
      "hello\n",
      "yusuf\n"
     ]
    }
   ],
   "source": [
    "hello_name(\"yusuf\")"
   ]
  },
  {
   "cell_type": "code",
   "execution_count": 47,
   "id": "ae9b7c0c-e5c7-4a7a-ae71-3414f30b9925",
   "metadata": {},
   "outputs": [],
   "source": [
    "def sumUp(num1,num2):\n",
    "    print(num1+num2)"
   ]
  },
  {
   "cell_type": "code",
   "execution_count": 49,
   "id": "d296c52c-4e23-42b7-bb7e-adac8935452e",
   "metadata": {},
   "outputs": [
    {
     "name": "stdout",
     "output_type": "stream",
     "text": [
      "4\n"
     ]
    }
   ],
   "source": [
    "sumUp(1,3)"
   ]
  },
  {
   "cell_type": "code",
   "execution_count": 51,
   "id": "e6ac7853-0e03-4d61-8712-d81a5aca65e5",
   "metadata": {},
   "outputs": [
    {
     "name": "stdout",
     "output_type": "stream",
     "text": [
      "15587\n"
     ]
    }
   ],
   "source": [
    "sumUp(12453,3134)"
   ]
  },
  {
   "cell_type": "code",
   "execution_count": 65,
   "id": "0fb2851b-cc4b-4e40-a348-5174a35bf994",
   "metadata": {},
   "outputs": [],
   "source": [
    "def helloSurname(surname=\"WHY DID NOT YOU ENTER SURNAMEEEEE???\"):\n",
    "    print(\"hello\")\n",
    "    print(surname)"
   ]
  },
  {
   "cell_type": "code",
   "execution_count": 67,
   "id": "c92cd656-bb65-4677-ae2c-e39357ba7521",
   "metadata": {},
   "outputs": [
    {
     "name": "stdout",
     "output_type": "stream",
     "text": [
      "hello\n",
      "ozden\n"
     ]
    }
   ],
   "source": [
    "helloSurname(\"ozden\")"
   ]
  },
  {
   "cell_type": "code",
   "execution_count": 69,
   "id": "e037a708-975b-44cd-9f49-d3a7140878a6",
   "metadata": {},
   "outputs": [
    {
     "name": "stdout",
     "output_type": "stream",
     "text": [
      "hello\n",
      "WHY DID NOT YOU ENTER SURNAMEEEEE???\n"
     ]
    }
   ],
   "source": [
    "helloSurname()"
   ]
  },
  {
   "cell_type": "code",
   "execution_count": 120,
   "id": "363edf38-4a1c-43ce-80ce-f38f7c1d26ff",
   "metadata": {},
   "outputs": [],
   "source": [
    "def summation(n1,n2,n3):\n",
    "    print(n1+n2+n3)"
   ]
  },
  {
   "cell_type": "code",
   "execution_count": 122,
   "id": "0115f2a1-71b4-452d-b584-5191ebcce612",
   "metadata": {},
   "outputs": [
    {
     "name": "stdout",
     "output_type": "stream",
     "text": [
      "20\n"
     ]
    }
   ],
   "source": [
    "summation(10,2,8)"
   ]
  },
  {
   "cell_type": "code",
   "execution_count": 124,
   "id": "57e06468-f02c-42dd-bc7b-1d38ee94a826",
   "metadata": {},
   "outputs": [
    {
     "name": "stdout",
     "output_type": "stream",
     "text": [
      "20\n"
     ]
    }
   ],
   "source": [
    "x = summation(10,2,8)"
   ]
  },
  {
   "cell_type": "code",
   "execution_count": 126,
   "id": "eea1e078-13c8-4ec9-92b2-f4205d1a423c",
   "metadata": {},
   "outputs": [],
   "source": [
    "# X DEĞERİ HİÇBİR ŞEY DÖNDÜRMÜYOR. ÇÜNÜKÜ FUNC GÖREVİ DÖNDÜRMEK DEĞİL SADECE PRINT ETMEK."
   ]
  },
  {
   "cell_type": "code",
   "execution_count": 128,
   "id": "cbbbab7c-4cff-4773-ba6c-04213b236dd1",
   "metadata": {},
   "outputs": [],
   "source": [
    "def summation(n1,n2,n3):\n",
    "    return(n1+n2+n3)"
   ]
  },
  {
   "cell_type": "code",
   "execution_count": 130,
   "id": "0b87c068-5df6-4ba6-8fc7-9463b0676ab9",
   "metadata": {},
   "outputs": [
    {
     "data": {
      "text/plain": [
       "20"
      ]
     },
     "execution_count": 130,
     "metadata": {},
     "output_type": "execute_result"
    }
   ],
   "source": [
    "summation(10,2,8)"
   ]
  },
  {
   "cell_type": "code",
   "execution_count": 132,
   "id": "8d24e809-cfde-4733-ab22-96ab9ed5e54a",
   "metadata": {},
   "outputs": [],
   "source": [
    "x = summation(10,2,8)"
   ]
  },
  {
   "cell_type": "code",
   "execution_count": 134,
   "id": "f8a9a58a-7c8b-4572-bb67-348014ce7f56",
   "metadata": {},
   "outputs": [
    {
     "data": {
      "text/plain": [
       "20"
      ]
     },
     "execution_count": 134,
     "metadata": {},
     "output_type": "execute_result"
    }
   ],
   "source": [
    "x"
   ]
  },
  {
   "cell_type": "code",
   "execution_count": 208,
   "id": "044a2a78-83aa-4f5a-a327-0cd6643a474d",
   "metadata": {},
   "outputs": [],
   "source": [
    "def controllingString(s):\n",
    "    if type(s) == str:\n",
    "        print(\"Bu bir string ifadedir!\")\n",
    "    else:\n",
    "        print(\":(\")"
   ]
  },
  {
   "cell_type": "code",
   "execution_count": 221,
   "id": "87cb8c68-9ab9-4fda-bbc1-00d3e2de07eb",
   "metadata": {},
   "outputs": [
    {
     "name": "stdout",
     "output_type": "stream",
     "text": [
      ":(\n"
     ]
    }
   ],
   "source": [
    "controllingString(23)"
   ]
  },
  {
   "cell_type": "code",
   "execution_count": 223,
   "id": "c5010ccc-8845-4a5c-b684-a4f23ee599ca",
   "metadata": {},
   "outputs": [
    {
     "name": "stdout",
     "output_type": "stream",
     "text": [
      "Bu bir string ifadedir!\n"
     ]
    }
   ],
   "source": [
    "controllingString(\"yusuf emre ozden\")"
   ]
  },
  {
   "cell_type": "code",
   "execution_count": 225,
   "id": "155d5482-58de-476a-9f23-6f7d23a7dbaf",
   "metadata": {},
   "outputs": [
    {
     "name": "stdout",
     "output_type": "stream",
     "text": [
      ":(\n"
     ]
    }
   ],
   "source": [
    "controllingString([10,20,30])"
   ]
  },
  {
   "cell_type": "code",
   "execution_count": 227,
   "id": "610a40a0-3729-4030-9c16-5ab3050b017f",
   "metadata": {},
   "outputs": [
    {
     "name": "stdout",
     "output_type": "stream",
     "text": [
      "Bu bir string ifadedir!\n"
     ]
    }
   ],
   "source": [
    "name = \"emre\"\n",
    "\n",
    "controllingString(name)"
   ]
  },
  {
   "cell_type": "markdown",
   "id": "e2516971-6095-468b-bf90-c67da75dd315",
   "metadata": {},
   "source": [
    "# ARGS AND KWARGS"
   ]
  },
  {
   "cell_type": "code",
   "execution_count": null,
   "id": "0b8a8208-021d-4618-bc38-28c88fb7091b",
   "metadata": {},
   "outputs": [],
   "source": []
  }
 ],
 "metadata": {
  "kernelspec": {
   "display_name": "Python 3 (ipykernel)",
   "language": "python",
   "name": "python3"
  },
  "language_info": {
   "codemirror_mode": {
    "name": "ipython",
    "version": 3
   },
   "file_extension": ".py",
   "mimetype": "text/x-python",
   "name": "python",
   "nbconvert_exporter": "python",
   "pygments_lexer": "ipython3",
   "version": "3.12.4"
  }
 },
 "nbformat": 4,
 "nbformat_minor": 5
}
