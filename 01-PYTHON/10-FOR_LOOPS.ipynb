{
 "cells": [
  {
   "cell_type": "markdown",
   "id": "e4d77cbf-7946-4683-8458-23bac9300fe2",
   "metadata": {},
   "source": [
    "# FOR LOOP"
   ]
  },
  {
   "cell_type": "code",
   "execution_count": 2,
   "id": "28bbf0b1-fb7d-4f4e-bff9-133ce720fb1f",
   "metadata": {},
   "outputs": [],
   "source": [
    "myList = [10,20,30,40,50,60,70,80,90]"
   ]
  },
  {
   "cell_type": "code",
   "execution_count": 6,
   "id": "82fbb15f-9943-4796-8077-ba3aa79c8e05",
   "metadata": {},
   "outputs": [],
   "source": [
    "# MESELA HER BİR ELEMANI SABİT BİR İŞLEME TABİİ TUTMAK İSTİYORUM."
   ]
  },
  {
   "cell_type": "code",
   "execution_count": 34,
   "id": "8b934131-be3a-4991-a61c-9e565f13b2be",
   "metadata": {},
   "outputs": [
    {
     "name": "stdout",
     "output_type": "stream",
     "text": [
      "For loop started!\n",
      "20\n",
      "40\n",
      "60\n",
      "80\n",
      "100\n",
      "120\n",
      "140\n",
      "160\n",
      "180\n",
      "For loop ended!\n"
     ]
    }
   ],
   "source": [
    "print(\"For loop started!\")\n",
    "for number in myList:\n",
    "    print(number*2)\n",
    "print(\"For loop ended!\")"
   ]
  },
  {
   "cell_type": "code",
   "execution_count": 36,
   "id": "cb2603e1-9c82-406e-9bd5-e19d65072a19",
   "metadata": {},
   "outputs": [
    {
     "name": "stdout",
     "output_type": "stream",
     "text": [
      "30\n",
      "60\n",
      "90\n"
     ]
    }
   ],
   "source": [
    "for num in myList:\n",
    "    if num%6==0:\n",
    "        print(num)"
   ]
  },
  {
   "cell_type": "code",
   "execution_count": 40,
   "id": "87f8aef0-c75b-40e1-a44c-169e23656f37",
   "metadata": {},
   "outputs": [
    {
     "name": "stdout",
     "output_type": "stream",
     "text": [
      "0\n",
      "2\n",
      "4\n",
      "6\n",
      "8\n"
     ]
    }
   ],
   "source": [
    "numberList = [0,1,2,3,4,5,6,7,8,9]\n",
    "\n",
    "for num in numberList:\n",
    "    if num%2==0:\n",
    "        print(num)"
   ]
  },
  {
   "cell_type": "code",
   "execution_count": 42,
   "id": "c1ec699d-f370-4bb7-acba-f53a199f95c7",
   "metadata": {},
   "outputs": [],
   "source": [
    "myString = \"yusuf emre ozden\""
   ]
  },
  {
   "cell_type": "code",
   "execution_count": 44,
   "id": "6285da2c-34ae-413c-902a-9205268f5f42",
   "metadata": {},
   "outputs": [
    {
     "name": "stdout",
     "output_type": "stream",
     "text": [
      "y\n",
      "u\n",
      "s\n",
      "u\n",
      "f\n",
      " \n",
      "e\n",
      "m\n",
      "r\n",
      "e\n",
      " \n",
      "o\n",
      "z\n",
      "d\n",
      "e\n",
      "n\n"
     ]
    }
   ],
   "source": [
    "for c in myString:\n",
    "    print(c)"
   ]
  },
  {
   "cell_type": "code",
   "execution_count": 52,
   "id": "5ed6c8da-2dbc-4e87-b176-a580562a9d18",
   "metadata": {},
   "outputs": [
    {
     "name": "stdout",
     "output_type": "stream",
     "text": [
      "5\n",
      "10\n",
      "15\n",
      "20\n",
      "25\n",
      "30\n",
      "35\n"
     ]
    }
   ],
   "source": [
    "myTuple = (10,20,30,40,50,60,70)\n",
    "\n",
    "for num in myTuple:\n",
    "    print(int(num * 2 / 4))"
   ]
  },
  {
   "cell_type": "code",
   "execution_count": 56,
   "id": "97e91156-3a44-4ae4-afe2-8b91a53688ef",
   "metadata": {},
   "outputs": [],
   "source": [
    "mixedList = [(\"a\",\"b\"),\"yusufemreozden\",(\"c\",\"d\"),10,{\"k1\":\"v1\",\"k2\":\"v2\"},[10,20,30,40]]"
   ]
  },
  {
   "cell_type": "code",
   "execution_count": 58,
   "id": "d22d470f-3e62-41b0-9929-1950fd9ca721",
   "metadata": {},
   "outputs": [
    {
     "data": {
      "text/plain": [
       "6"
      ]
     },
     "execution_count": 58,
     "metadata": {},
     "output_type": "execute_result"
    }
   ],
   "source": [
    "len(mixedList)"
   ]
  },
  {
   "cell_type": "code",
   "execution_count": 62,
   "id": "ac78a170-f0b1-4b88-9466-062ceb605856",
   "metadata": {},
   "outputs": [
    {
     "data": {
      "text/plain": [
       "[10, 20, 30, 40]"
      ]
     },
     "execution_count": 62,
     "metadata": {},
     "output_type": "execute_result"
    }
   ],
   "source": [
    "mixedList[5]"
   ]
  },
  {
   "cell_type": "code",
   "execution_count": 66,
   "id": "e8b23ebd-75ac-428c-9fa5-482e389a5371",
   "metadata": {},
   "outputs": [
    {
     "name": "stdout",
     "output_type": "stream",
     "text": [
      "('a', 'b')\n",
      "yusufemreozden\n",
      "('c', 'd')\n",
      "10\n",
      "{'k1': 'v1', 'k2': 'v2'}\n",
      "[10, 20, 30, 40]\n"
     ]
    }
   ],
   "source": [
    "for x in mixedList:\n",
    "    print(x)"
   ]
  },
  {
   "cell_type": "code",
   "execution_count": 68,
   "id": "34977cd1-e8ae-4d20-bbd7-86dee0b8a8f7",
   "metadata": {},
   "outputs": [],
   "source": [
    "myNewList =  [('a','b'),('c','d'),('e','f'),('g','h')]"
   ]
  },
  {
   "cell_type": "code",
   "execution_count": 76,
   "id": "d355599a-f63b-4483-84c8-00b2c62ce1be",
   "metadata": {},
   "outputs": [
    {
     "name": "stdout",
     "output_type": "stream",
     "text": [
      "a b\n",
      "c d\n",
      "e f\n",
      "g h\n",
      "a\n",
      "c\n",
      "e\n",
      "g\n",
      "b\n",
      "d\n",
      "f\n",
      "h\n"
     ]
    }
   ],
   "source": [
    "for x,y in myNewList:\n",
    "    print(x,y)\n",
    "for x,y in myNewList:\n",
    "    print(x)\n",
    "for x,y in myNewList:\n",
    "    print(y)"
   ]
  },
  {
   "cell_type": "code",
   "execution_count": 78,
   "id": "dddcd936-9731-409f-91c6-303673feb473",
   "metadata": {},
   "outputs": [],
   "source": [
    "myTupleList = [(1,2,3),(4,5,6),(6,7,8)]"
   ]
  },
  {
   "cell_type": "code",
   "execution_count": 82,
   "id": "fc1860b9-bd89-4174-a3e6-77eea0dbaca5",
   "metadata": {},
   "outputs": [
    {
     "name": "stdout",
     "output_type": "stream",
     "text": [
      "1 2 3\n",
      "4 5 6\n",
      "6 7 8\n"
     ]
    }
   ],
   "source": [
    "for x,y,z in myTupleList:\n",
    "    print(x,y,z)"
   ]
  },
  {
   "cell_type": "code",
   "execution_count": 84,
   "id": "dca3eee2-3e3c-49eb-ba4a-f93b8b02ec23",
   "metadata": {},
   "outputs": [
    {
     "name": "stdout",
     "output_type": "stream",
     "text": [
      "1\n",
      "4\n",
      "6\n"
     ]
    }
   ],
   "source": [
    "for x,y,z in myTupleList:\n",
    "    print(x)"
   ]
  },
  {
   "cell_type": "code",
   "execution_count": 86,
   "id": "d95ca45b-f601-4955-b361-60c07613cc2c",
   "metadata": {},
   "outputs": [],
   "source": [
    "mySet = {1,2,3,4,5}"
   ]
  },
  {
   "cell_type": "code",
   "execution_count": 90,
   "id": "a0906534-cac0-4c98-9cac-26f75d8432c9",
   "metadata": {},
   "outputs": [
    {
     "name": "stdout",
     "output_type": "stream",
     "text": [
      "1\n",
      "2\n",
      "3\n",
      "4\n",
      "5\n"
     ]
    }
   ],
   "source": [
    "for num in mySet:\n",
    "    print(num)"
   ]
  },
  {
   "cell_type": "code",
   "execution_count": 92,
   "id": "df971831-b924-424c-8486-b91b00eec932",
   "metadata": {},
   "outputs": [],
   "source": [
    "myDict = {\"k1\":\"v1\",\"k2\":\"v2\",\"k3\":\"v3\"}"
   ]
  },
  {
   "cell_type": "code",
   "execution_count": 96,
   "id": "c335e125-8bc9-4ea5-ac3b-a6404f6c6399",
   "metadata": {},
   "outputs": [
    {
     "name": "stdout",
     "output_type": "stream",
     "text": [
      "('k1', 'v1')\n",
      "('k2', 'v2')\n",
      "('k3', 'v3')\n"
     ]
    }
   ],
   "source": [
    "for element in myDict.items():\n",
    "    print(element)"
   ]
  },
  {
   "cell_type": "code",
   "execution_count": 98,
   "id": "d93e0ea6-101f-40e4-a302-33b1975bc7a0",
   "metadata": {},
   "outputs": [
    {
     "name": "stdout",
     "output_type": "stream",
     "text": [
      "k1\n",
      "k2\n",
      "k3\n"
     ]
    }
   ],
   "source": [
    "for element in myDict.keys():\n",
    "    print(element)"
   ]
  },
  {
   "cell_type": "code",
   "execution_count": 100,
   "id": "581175f7-a98b-4a2f-9bd1-cb2954249616",
   "metadata": {},
   "outputs": [
    {
     "name": "stdout",
     "output_type": "stream",
     "text": [
      "v1\n",
      "v2\n",
      "v3\n"
     ]
    }
   ],
   "source": [
    "for element in myDict.values():\n",
    "    print(element)"
   ]
  },
  {
   "cell_type": "code",
   "execution_count": 106,
   "id": "7c07f1df-e4d0-47fe-8fd8-8314eced24b3",
   "metadata": {},
   "outputs": [
    {
     "name": "stdout",
     "output_type": "stream",
     "text": [
      "k1\n",
      "k2\n",
      "k3\n"
     ]
    }
   ],
   "source": [
    "for element in myDict:\n",
    "    print(element)"
   ]
  },
  {
   "cell_type": "code",
   "execution_count": null,
   "id": "c4439b53-7334-44e7-88bf-c3b9c80847d9",
   "metadata": {},
   "outputs": [],
   "source": []
  }
 ],
 "metadata": {
  "kernelspec": {
   "display_name": "Python 3 (ipykernel)",
   "language": "python",
   "name": "python3"
  },
  "language_info": {
   "codemirror_mode": {
    "name": "ipython",
    "version": 3
   },
   "file_extension": ".py",
   "mimetype": "text/x-python",
   "name": "python",
   "nbconvert_exporter": "python",
   "pygments_lexer": "ipython3",
   "version": "3.12.4"
  }
 },
 "nbformat": 4,
 "nbformat_minor": 5
}
