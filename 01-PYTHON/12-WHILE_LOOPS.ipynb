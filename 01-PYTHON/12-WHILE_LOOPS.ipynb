{
 "cells": [
  {
   "cell_type": "markdown",
   "id": "e78edbcc-1f2a-4ed3-bd81-1259184ca716",
   "metadata": {},
   "source": [
    "# WHILE LOOP"
   ]
  },
  {
   "cell_type": "code",
   "execution_count": 3,
   "id": "761fe10d-bacd-479c-91f8-b6643e220efa",
   "metadata": {},
   "outputs": [
    {
     "name": "stdout",
     "output_type": "stream",
     "text": [
      "0\n",
      "1\n",
      "2\n",
      "3\n",
      "4\n",
      "5\n",
      "6\n",
      "7\n",
      "8\n",
      "9\n"
     ]
    }
   ],
   "source": [
    "x = 0\n",
    "\n",
    "while x < 10:\n",
    "    print(x)\n",
    "    x = x + 1"
   ]
  },
  {
   "cell_type": "code",
   "execution_count": 5,
   "id": "9b4b796d-054f-4efc-a24e-a93e28394d2c",
   "metadata": {},
   "outputs": [
    {
     "name": "stdout",
     "output_type": "stream",
     "text": [
      "10\n",
      "10\n",
      "10\n",
      "10\n",
      "10\n"
     ]
    }
   ],
   "source": [
    "list = [10,20,30,40,50]\n",
    "\n",
    "while x in list:\n",
    "    print(x)\n",
    "    list.pop()"
   ]
  },
  {
   "cell_type": "code",
   "execution_count": 7,
   "id": "06d07728-e68e-481c-a2cb-6ecae09ec89a",
   "metadata": {},
   "outputs": [
    {
     "name": "stdout",
     "output_type": "stream",
     "text": [
      "x is 10.\n"
     ]
    }
   ],
   "source": [
    "x = 10\n",
    "\n",
    "print(f\"x is {x}.\")"
   ]
  },
  {
   "cell_type": "code",
   "execution_count": 9,
   "id": "abe106f2-86ff-43fb-b550-4251ca3eae13",
   "metadata": {},
   "outputs": [
    {
     "name": "stdin",
     "output_type": "stream",
     "text": [
      "What is your name?:  Emre\n"
     ]
    },
    {
     "name": "stdout",
     "output_type": "stream",
     "text": [
      "\n",
      "Welcome Emre!\n"
     ]
    }
   ],
   "source": [
    "name = str(input(\"What is your name?: \"))\n",
    "\n",
    "print(f\"\\nWelcome {name}!\")"
   ]
  },
  {
   "cell_type": "code",
   "execution_count": 11,
   "id": "852fef2b-e4cf-410b-bd18-4acc8a013554",
   "metadata": {},
   "outputs": [
    {
     "name": "stdout",
     "output_type": "stream",
     "text": [
      "Welcome Emre\n"
     ]
    }
   ],
   "source": [
    "print(\"Welcome\",name)"
   ]
  },
  {
   "cell_type": "code",
   "execution_count": 19,
   "id": "1f216987-44c2-4ed0-b387-d23351313052",
   "metadata": {},
   "outputs": [
    {
     "name": "stdout",
     "output_type": "stream",
     "text": [
      "value of p is 0!\n",
      "value of p is 1!\n",
      "value of p is 2!\n",
      "value of p is 3!\n",
      "value of p is 4!\n",
      "value of p is 5!\n",
      "value of p is 6!\n",
      "value of p is 7!\n",
      "value of p is 8!\n",
      "value of p is 9!\n",
      "value of p is 10!\n",
      "value of p is 11!\n",
      "value of p is 12!\n",
      "value of p is 13!\n",
      "value of p is 14!\n",
      "value of p is 15!\n",
      "value of p is 16!\n",
      "value of p is 17!\n",
      "value of p is 18!\n",
      "value of p is 19!\n",
      "value of p is 20!\n"
     ]
    }
   ],
   "source": [
    "p = 0\n",
    "\n",
    "while p <= 20:\n",
    "    print(f\"value of p is {p}!\")\n",
    "    p = p + 1"
   ]
  },
  {
   "cell_type": "code",
   "execution_count": null,
   "id": "8979595b-060f-409d-8bcc-a101e50cc3ff",
   "metadata": {},
   "outputs": [],
   "source": []
  }
 ],
 "metadata": {
  "kernelspec": {
   "display_name": "Python 3 (ipykernel)",
   "language": "python",
   "name": "python3"
  },
  "language_info": {
   "codemirror_mode": {
    "name": "ipython",
    "version": 3
   },
   "file_extension": ".py",
   "mimetype": "text/x-python",
   "name": "python",
   "nbconvert_exporter": "python",
   "pygments_lexer": "ipython3",
   "version": "3.12.4"
  }
 },
 "nbformat": 4,
 "nbformat_minor": 5
}
