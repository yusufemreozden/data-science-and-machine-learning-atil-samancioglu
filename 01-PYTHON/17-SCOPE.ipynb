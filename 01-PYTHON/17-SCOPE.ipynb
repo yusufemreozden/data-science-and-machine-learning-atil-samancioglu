{
 "cells": [
  {
   "cell_type": "code",
   "execution_count": 17,
   "id": "d8454350-ba6e-4fb4-914d-947784d8ba5d",
   "metadata": {},
   "outputs": [],
   "source": [
    "x = 20\n",
    "\n",
    "def multiply(num):\n",
    "    x = 5\n",
    "    return num * x"
   ]
  },
  {
   "cell_type": "code",
   "execution_count": 19,
   "id": "ab1d5d22-c186-4427-8a2c-643c46fdefea",
   "metadata": {},
   "outputs": [
    {
     "data": {
      "text/plain": [
       "50"
      ]
     },
     "execution_count": 19,
     "metadata": {},
     "output_type": "execute_result"
    }
   ],
   "source": [
    "multiply(10)"
   ]
  },
  {
   "cell_type": "code",
   "execution_count": 21,
   "id": "996fefac-124d-4e0a-9292-7a7c217f75d1",
   "metadata": {},
   "outputs": [
    {
     "name": "stdout",
     "output_type": "stream",
     "text": [
      "20\n"
     ]
    }
   ],
   "source": [
    "print(x)"
   ]
  },
  {
   "cell_type": "code",
   "execution_count": 23,
   "id": "b465f7d0-caac-46fd-9edf-b25a72c792e0",
   "metadata": {},
   "outputs": [],
   "source": [
    "x = 20\n",
    "\n",
    "def multiply(num):\n",
    "    x = 5\n",
    "    return num * x\n",
    "x = 10"
   ]
  },
  {
   "cell_type": "code",
   "execution_count": 25,
   "id": "609b3bb3-2751-4950-8123-48ab6763420d",
   "metadata": {},
   "outputs": [
    {
     "data": {
      "text/plain": [
       "10"
      ]
     },
     "execution_count": 25,
     "metadata": {},
     "output_type": "execute_result"
    }
   ],
   "source": [
    "x"
   ]
  },
  {
   "cell_type": "code",
   "execution_count": 27,
   "id": "c93fb9b8-83b3-498e-b306-2eea8853d5d0",
   "metadata": {},
   "outputs": [
    {
     "data": {
      "text/plain": [
       "75"
      ]
     },
     "execution_count": 27,
     "metadata": {},
     "output_type": "execute_result"
    }
   ],
   "source": [
    "multiply(15)"
   ]
  },
  {
   "cell_type": "code",
   "execution_count": 29,
   "id": "602df58e-3ef3-4a77-8327-cd6590500484",
   "metadata": {},
   "outputs": [],
   "source": [
    "x = 20\n",
    "\n",
    "def multiply(num):\n",
    "    return num * x"
   ]
  },
  {
   "cell_type": "code",
   "execution_count": 31,
   "id": "b53a648d-61b0-49aa-ab90-1a8035e9639b",
   "metadata": {},
   "outputs": [
    {
     "data": {
      "text/plain": [
       "40"
      ]
     },
     "execution_count": 31,
     "metadata": {},
     "output_type": "execute_result"
    }
   ],
   "source": [
    "multiply(2)"
   ]
  },
  {
   "cell_type": "code",
   "execution_count": 33,
   "id": "99967d97-239f-4d22-8c30-12a09234afd8",
   "metadata": {},
   "outputs": [
    {
     "data": {
      "text/plain": [
       "20"
      ]
     },
     "execution_count": 33,
     "metadata": {},
     "output_type": "execute_result"
    }
   ],
   "source": [
    "x"
   ]
  },
  {
   "cell_type": "markdown",
   "id": "3a4200ae-dd75-4279-9a8b-23b88a0652e8",
   "metadata": {},
   "source": [
    "# LEGB -> Local Enclosing Global Built-in"
   ]
  },
  {
   "cell_type": "code",
   "execution_count": 60,
   "id": "0f5fa57b-89da-473e-a637-2e33d09d9a25",
   "metadata": {},
   "outputs": [],
   "source": [
    "# GLOBAL\n",
    "myString = \"emre\"\n",
    "\n",
    "def myFunc():\n",
    "    # ENCLOSING\n",
    "    myString = \"emre 2\"\n",
    "    def myFunc2():\n",
    "        # LOCAL\n",
    "        myString = \"emre 3\"\n",
    "        print(myString)\n",
    "    myFunc2()"
   ]
  },
  {
   "cell_type": "code",
   "execution_count": 62,
   "id": "6d350df5-e1f3-4b46-a990-01f3f9a7af9d",
   "metadata": {},
   "outputs": [
    {
     "data": {
      "text/plain": [
       "'emre'"
      ]
     },
     "execution_count": 62,
     "metadata": {},
     "output_type": "execute_result"
    }
   ],
   "source": [
    "myString"
   ]
  },
  {
   "cell_type": "code",
   "execution_count": 64,
   "id": "b0b610f0-323f-41d7-b3fa-e4e93fa9e74b",
   "metadata": {},
   "outputs": [
    {
     "name": "stdout",
     "output_type": "stream",
     "text": [
      "emre 3\n"
     ]
    }
   ],
   "source": [
    "myFunc()"
   ]
  },
  {
   "cell_type": "code",
   "execution_count": 66,
   "id": "2654f77d-6c84-4ae4-8415-624ce238dcd4",
   "metadata": {},
   "outputs": [],
   "source": [
    "def test1():\n",
    "    myVariable = 10\n",
    "    return myVariable * 2"
   ]
  },
  {
   "cell_type": "code",
   "execution_count": 68,
   "id": "fbb33f5d-da26-4a47-9773-ef0f9074ae0d",
   "metadata": {},
   "outputs": [],
   "source": [
    "def test2():\n",
    "    return myVariable * 3"
   ]
  },
  {
   "cell_type": "code",
   "execution_count": 78,
   "id": "4ee4052d-5ed2-4aca-ab3f-30354d4ec707",
   "metadata": {},
   "outputs": [],
   "source": [
    "# test1()"
   ]
  },
  {
   "cell_type": "code",
   "execution_count": 80,
   "id": "9c2d17b6-e013-4745-b9bd-7643ef367d14",
   "metadata": {},
   "outputs": [],
   "source": [
    "myVariable = 10\n",
    "\n",
    "def test1():\n",
    "    return myVariable * 2\n",
    "\n",
    "def test2():\n",
    "    return myVariable * 3"
   ]
  },
  {
   "cell_type": "code",
   "execution_count": 82,
   "id": "1c8a0d96-fb15-4dea-aca9-6a140c52e702",
   "metadata": {},
   "outputs": [
    {
     "data": {
      "text/plain": [
       "20"
      ]
     },
     "execution_count": 82,
     "metadata": {},
     "output_type": "execute_result"
    }
   ],
   "source": [
    "test1()"
   ]
  },
  {
   "cell_type": "code",
   "execution_count": 84,
   "id": "be043001-45df-4255-90cc-67125c5577db",
   "metadata": {},
   "outputs": [
    {
     "data": {
      "text/plain": [
       "30"
      ]
     },
     "execution_count": 84,
     "metadata": {},
     "output_type": "execute_result"
    }
   ],
   "source": [
    "test2()"
   ]
  },
  {
   "cell_type": "code",
   "execution_count": 88,
   "id": "03c3fa87-cf24-4c67-8a40-7cea50666c85",
   "metadata": {},
   "outputs": [],
   "source": [
    "y = 10\n",
    "\n",
    "def newFunc(y):\n",
    "    print(y)\n",
    "    y = y * 2\n",
    "    print(y)\n",
    "    return y "
   ]
  },
  {
   "cell_type": "code",
   "execution_count": 90,
   "id": "c41f052d-ff16-4036-a775-97452216a14a",
   "metadata": {},
   "outputs": [
    {
     "name": "stdout",
     "output_type": "stream",
     "text": [
      "10\n",
      "20\n"
     ]
    },
    {
     "data": {
      "text/plain": [
       "20"
      ]
     },
     "execution_count": 90,
     "metadata": {},
     "output_type": "execute_result"
    }
   ],
   "source": [
    "newFunc(y)"
   ]
  },
  {
   "cell_type": "code",
   "execution_count": 92,
   "id": "99a1670c-5e91-406f-917f-1ca5a2419815",
   "metadata": {},
   "outputs": [
    {
     "data": {
      "text/plain": [
       "10"
      ]
     },
     "execution_count": 92,
     "metadata": {},
     "output_type": "execute_result"
    }
   ],
   "source": [
    "y"
   ]
  },
  {
   "cell_type": "code",
   "execution_count": 94,
   "id": "c1e2664c-cd13-4c02-8282-608ff5aee549",
   "metadata": {},
   "outputs": [],
   "source": [
    "y = 10\n",
    "\n",
    "def changingY(y):\n",
    "    y = 5\n",
    "    print(y)"
   ]
  },
  {
   "cell_type": "code",
   "execution_count": 96,
   "id": "9ae9845c-c46c-4921-a9db-7bd1124fe253",
   "metadata": {},
   "outputs": [
    {
     "name": "stdout",
     "output_type": "stream",
     "text": [
      "5\n"
     ]
    }
   ],
   "source": [
    "changingY(y)"
   ]
  },
  {
   "cell_type": "code",
   "execution_count": 100,
   "id": "8b93e0f7-5ee4-4dc5-8a53-d8a8ad84c2bc",
   "metadata": {},
   "outputs": [],
   "source": [
    "y = 10\n",
    "\n",
    "def changingY():\n",
    "    global y\n",
    "    y = 5\n",
    "    print(y)"
   ]
  },
  {
   "cell_type": "code",
   "execution_count": 104,
   "id": "a132dcd0-9351-43cf-accc-edecef4137fe",
   "metadata": {},
   "outputs": [
    {
     "name": "stdout",
     "output_type": "stream",
     "text": [
      "5\n"
     ]
    }
   ],
   "source": [
    "changingY()"
   ]
  },
  {
   "cell_type": "code",
   "execution_count": 106,
   "id": "04d142a5-d9db-4df5-8b78-0beb5c2ec1bd",
   "metadata": {},
   "outputs": [
    {
     "data": {
      "text/plain": [
       "5"
      ]
     },
     "execution_count": 106,
     "metadata": {},
     "output_type": "execute_result"
    }
   ],
   "source": [
    "y"
   ]
  }
 ],
 "metadata": {
  "kernelspec": {
   "display_name": "Python 3 (ipykernel)",
   "language": "python",
   "name": "python3"
  },
  "language_info": {
   "codemirror_mode": {
    "name": "ipython",
    "version": 3
   },
   "file_extension": ".py",
   "mimetype": "text/x-python",
   "name": "python",
   "nbconvert_exporter": "python",
   "pygments_lexer": "ipython3",
   "version": "3.12.4"
  }
 },
 "nbformat": 4,
 "nbformat_minor": 5
}
