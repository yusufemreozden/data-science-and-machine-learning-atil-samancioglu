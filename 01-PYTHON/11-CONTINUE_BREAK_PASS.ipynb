{
 "cells": [
  {
   "cell_type": "markdown",
   "id": "568565ae-8f67-4d8c-aea8-fa960c4f6c14",
   "metadata": {},
   "source": [
    "# BREAK"
   ]
  },
  {
   "cell_type": "code",
   "execution_count": 1,
   "id": "c213cc9f-1428-471e-93ae-f8e0da7694fc",
   "metadata": {},
   "outputs": [],
   "source": [
    "list = [10,20,30,40,50,60,70,80,90]"
   ]
  },
  {
   "cell_type": "code",
   "execution_count": 3,
   "id": "4caa4904-e64f-4f34-9202-ac1832ea7c20",
   "metadata": {},
   "outputs": [],
   "source": [
    "# LİSTEYİ GÖRMÜYORUM. VERİYİ İNDİRDİM. İÇİNDE '40' VAR MI KONTROL ETMEM LAZIM."
   ]
  },
  {
   "cell_type": "code",
   "execution_count": 5,
   "id": "39ad8bc5-6962-4982-a479-a8eb8c3fe0ba",
   "metadata": {},
   "outputs": [
    {
     "data": {
      "text/plain": [
       "True"
      ]
     },
     "execution_count": 5,
     "metadata": {},
     "output_type": "execute_result"
    }
   ],
   "source": [
    "40 in list"
   ]
  },
  {
   "cell_type": "code",
   "execution_count": 7,
   "id": "b09ee4a2-370e-4b1d-bc30-9372f38e6102",
   "metadata": {},
   "outputs": [],
   "source": [
    "# TRUE ALDIK. AMA KONTROLÜ PYTHON YAPMASIN. BİZ NASIL KONTROL EDERİZ?"
   ]
  },
  {
   "cell_type": "code",
   "execution_count": 11,
   "id": "d02e4aac-e793-491e-8ad9-bc534a257330",
   "metadata": {},
   "outputs": [
    {
     "name": "stdout",
     "output_type": "stream",
     "text": [
      "exist\n"
     ]
    }
   ],
   "source": [
    "for num in list:\n",
    "    if num == 40:\n",
    "        print(\"exist\")"
   ]
  },
  {
   "cell_type": "code",
   "execution_count": 13,
   "id": "f52066af-5215-4015-a14a-8ffc75167955",
   "metadata": {},
   "outputs": [],
   "source": [
    "# KONTROL MANUEL SAĞLANDI. AMA BU VERİMSİZ BİR KOD. NEDEN?"
   ]
  },
  {
   "cell_type": "code",
   "execution_count": 15,
   "id": "b99b950f-ed2b-44f9-9431-c5753490cae1",
   "metadata": {},
   "outputs": [
    {
     "name": "stdout",
     "output_type": "stream",
     "text": [
      "10\n",
      "20\n",
      "30\n",
      "40\n",
      "exist\n",
      "50\n",
      "60\n",
      "70\n",
      "80\n",
      "90\n"
     ]
    }
   ],
   "source": [
    "for num in list:\n",
    "    print(num)\n",
    "    if num == 40:\n",
    "        print(\"exist\")"
   ]
  },
  {
   "cell_type": "code",
   "execution_count": 17,
   "id": "ae7de7ef-906b-4520-a15c-cf9e65d71ffb",
   "metadata": {},
   "outputs": [],
   "source": [
    "# ÇÜNKÜ YUKARIDA GÖRLDÜĞÜ GİBİ 40'I BULDUĞU HALDE TÜM ELEMANLARI\n",
    "# TARAMAYA DEVAM EDİYOR. AMAÇ 40'I BULMAKSA, BULDUĞU ANDA ARAMAYI BIRAKMALI."
   ]
  },
  {
   "cell_type": "code",
   "execution_count": 19,
   "id": "9cd0da18-fd42-431e-9924-3d40d7ecd460",
   "metadata": {},
   "outputs": [
    {
     "name": "stdout",
     "output_type": "stream",
     "text": [
      "10\n",
      "20\n",
      "30\n",
      "40\n",
      "exist\n"
     ]
    }
   ],
   "source": [
    "for num in list:\n",
    "    print(num)\n",
    "    if num == 40:\n",
    "        print(\"exist\")\n",
    "        break"
   ]
  },
  {
   "cell_type": "markdown",
   "id": "c79ea98d-3109-4066-ac7a-f4431e9f05a4",
   "metadata": {},
   "source": [
    "# CONTINUE"
   ]
  },
  {
   "cell_type": "code",
   "execution_count": 23,
   "id": "80b7e032-9d43-4e05-9640-b9b20e95c559",
   "metadata": {},
   "outputs": [],
   "source": [
    "list = [10,20,30,40,50,60,70,80,90]"
   ]
  },
  {
   "cell_type": "code",
   "execution_count": 25,
   "id": "76e81444-7ebd-4572-8468-3f216b8112ee",
   "metadata": {},
   "outputs": [
    {
     "name": "stdout",
     "output_type": "stream",
     "text": [
      "10\n",
      "20\n",
      "30\n",
      "40\n",
      "exist\n",
      "50\n",
      "60\n",
      "70\n",
      "80\n",
      "90\n"
     ]
    }
   ],
   "source": [
    "for num in list:\n",
    "    print(num)\n",
    "    if num == 40:\n",
    "        print(\"exist\")\n",
    "        continue"
   ]
  },
  {
   "cell_type": "code",
   "execution_count": 27,
   "id": "1ad85bb7-e444-4415-9ec9-8747d3f9f261",
   "metadata": {},
   "outputs": [
    {
     "name": "stdout",
     "output_type": "stream",
     "text": [
      "10\n",
      "20\n",
      "30\n",
      "40\n",
      "50\n",
      "60\n",
      "70\n",
      "80\n",
      "90\n"
     ]
    }
   ],
   "source": [
    "for num in list:\n",
    "    print(num)\n",
    "    if num == 40:\n",
    "        continue\n",
    "        print(\"exist\")    "
   ]
  },
  {
   "cell_type": "code",
   "execution_count": 29,
   "id": "3cd407c6-83ce-4420-89db-800beba716f0",
   "metadata": {},
   "outputs": [
    {
     "name": "stdout",
     "output_type": "stream",
     "text": [
      "10\n",
      "20\n",
      "30\n",
      "40\n",
      "50\n",
      "60\n",
      "70\n",
      "80\n",
      "90\n"
     ]
    }
   ],
   "source": [
    "for num in list:\n",
    "    print(num)\n",
    "    continue\n",
    "    if num == 40:\n",
    "        print(\"exist\")    "
   ]
  },
  {
   "cell_type": "code",
   "execution_count": 35,
   "id": "8c6b0128-16f1-454a-8c76-686eb156adda",
   "metadata": {},
   "outputs": [
    {
     "name": "stdout",
     "output_type": "stream",
     "text": [
      "10\n",
      "20\n",
      "30\n",
      "40\n",
      "exist\n",
      "50\n",
      "60\n",
      "70\n",
      "80\n",
      "90\n"
     ]
    }
   ],
   "source": [
    "for num in list:\n",
    "    print(num)\n",
    "    if num == 40:\n",
    "        print(\"exist\")\n",
    "    continue\n",
    "    print(\"BU YAZI PRINT EDİLMEYECEK\")"
   ]
  }
 ],
 "metadata": {
  "kernelspec": {
   "display_name": "Python 3 (ipykernel)",
   "language": "python",
   "name": "python3"
  },
  "language_info": {
   "codemirror_mode": {
    "name": "ipython",
    "version": 3
   },
   "file_extension": ".py",
   "mimetype": "text/x-python",
   "name": "python",
   "nbconvert_exporter": "python",
   "pygments_lexer": "ipython3",
   "version": "3.12.4"
  }
 },
 "nbformat": 4,
 "nbformat_minor": 5
}
