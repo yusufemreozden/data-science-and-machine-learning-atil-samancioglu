{
 "cells": [
  {
   "cell_type": "code",
   "execution_count": 7,
   "id": "cd400c35-9d88-478d-b3c5-23526670cde3",
   "metadata": {},
   "outputs": [],
   "source": [
    "def devideNumber(num):\n",
    "    if num%2==0:\n",
    "        return int(num/2)\n",
    "    else:\n",
    "        return num/2"
   ]
  },
  {
   "cell_type": "code",
   "execution_count": 9,
   "id": "4b15b505-dd16-4c68-bd44-e5766fcc193d",
   "metadata": {},
   "outputs": [
    {
     "data": {
      "text/plain": [
       "50"
      ]
     },
     "execution_count": 9,
     "metadata": {},
     "output_type": "execute_result"
    }
   ],
   "source": [
    "devideNumber(100)"
   ]
  },
  {
   "cell_type": "code",
   "execution_count": 11,
   "id": "9aadbb5c-1e24-4ee3-8d4a-3c6dd9092135",
   "metadata": {},
   "outputs": [
    {
     "data": {
      "text/plain": [
       "25.5"
      ]
     },
     "execution_count": 11,
     "metadata": {},
     "output_type": "execute_result"
    }
   ],
   "source": [
    "devideNumber(51)"
   ]
  },
  {
   "cell_type": "code",
   "execution_count": 13,
   "id": "0f575268-c3c5-467a-b74f-754b3b07f1f2",
   "metadata": {},
   "outputs": [],
   "source": [
    "myList = [3,5,6,8,5,31,60,19]"
   ]
  },
  {
   "cell_type": "code",
   "execution_count": 15,
   "id": "a0dc07f8-f442-4d4c-aeb8-1333cc580f98",
   "metadata": {},
   "outputs": [],
   "source": [
    "myResultList = []"
   ]
  },
  {
   "cell_type": "code",
   "execution_count": 17,
   "id": "92717118-45c2-49e7-bb84-385a0216c872",
   "metadata": {},
   "outputs": [],
   "source": [
    "for num in myList:\n",
    "    result = devideNumber(num)\n",
    "    myResultList.append(result)"
   ]
  },
  {
   "cell_type": "code",
   "execution_count": 19,
   "id": "4b7c5df2-e2f8-4311-9dcc-7b9e6295a776",
   "metadata": {},
   "outputs": [
    {
     "data": {
      "text/plain": [
       "[1.5, 2.5, 3, 4, 2.5, 15.5, 30, 9.5]"
      ]
     },
     "execution_count": 19,
     "metadata": {},
     "output_type": "execute_result"
    }
   ],
   "source": [
    "myResultList"
   ]
  },
  {
   "cell_type": "markdown",
   "id": "a5e8db91-eeca-426a-ae63-8c2c5d1738e1",
   "metadata": {},
   "source": [
    "# MAP"
   ]
  },
  {
   "cell_type": "code",
   "execution_count": 23,
   "id": "01312475-6b51-4044-a776-a6771d875000",
   "metadata": {},
   "outputs": [
    {
     "name": "stdout",
     "output_type": "stream",
     "text": [
      "Help on class map in module builtins:\n",
      "\n",
      "class map(object)\n",
      " |  map(func, *iterables) --> map object\n",
      " |\n",
      " |  Make an iterator that computes the function using arguments from\n",
      " |  each of the iterables.  Stops when the shortest iterable is exhausted.\n",
      " |\n",
      " |  Methods defined here:\n",
      " |\n",
      " |  __getattribute__(self, name, /)\n",
      " |      Return getattr(self, name).\n",
      " |\n",
      " |  __iter__(self, /)\n",
      " |      Implement iter(self).\n",
      " |\n",
      " |  __next__(self, /)\n",
      " |      Implement next(self).\n",
      " |\n",
      " |  __reduce__(...)\n",
      " |      Return state information for pickling.\n",
      " |\n",
      " |  ----------------------------------------------------------------------\n",
      " |  Static methods defined here:\n",
      " |\n",
      " |  __new__(*args, **kwargs)\n",
      " |      Create and return a new object.  See help(type) for accurate signature.\n",
      "\n"
     ]
    }
   ],
   "source": [
    "help(map)"
   ]
  },
  {
   "cell_type": "code",
   "execution_count": 27,
   "id": "f205bdbd-91f7-4b88-9f5f-6fa587dcf5bc",
   "metadata": {},
   "outputs": [
    {
     "data": {
      "text/plain": [
       "[1.5, 2.5, 3, 4, 2.5, 15.5, 30, 9.5]"
      ]
     },
     "execution_count": 27,
     "metadata": {},
     "output_type": "execute_result"
    }
   ],
   "source": [
    "list(map(devideNumber,myList))"
   ]
  },
  {
   "cell_type": "code",
   "execution_count": 29,
   "id": "46be6de3-45e1-43b9-a4c4-15b9c7f893e5",
   "metadata": {},
   "outputs": [],
   "source": [
    "def controlStr(s):\n",
    "    if \"yusuf\" in s:\n",
    "        print(\":)\")\n",
    "    else:\n",
    "        print(\":(\")"
   ]
  },
  {
   "cell_type": "code",
   "execution_count": 33,
   "id": "15353515-f1dd-404e-b11d-29cf50902502",
   "metadata": {},
   "outputs": [
    {
     "name": "stdout",
     "output_type": "stream",
     "text": [
      ":)\n"
     ]
    }
   ],
   "source": [
    "controlStr(\"yusuf emre ozden\")"
   ]
  },
  {
   "cell_type": "code",
   "execution_count": 35,
   "id": "be9e8ed8-32ab-4e64-a936-3e016819f474",
   "metadata": {},
   "outputs": [],
   "source": [
    "myStringList = [\"yusuf\",\"emre\",\"onur\",\"umut\",\"omer\"]"
   ]
  },
  {
   "cell_type": "code",
   "execution_count": 45,
   "id": "8bb9d410-afe5-4beb-9a10-8e12b5f1c99d",
   "metadata": {},
   "outputs": [
    {
     "data": {
      "text/plain": [
       "True"
      ]
     },
     "execution_count": 45,
     "metadata": {},
     "output_type": "execute_result"
    }
   ],
   "source": [
    "bool(map(controlStr,myStringList))"
   ]
  },
  {
   "cell_type": "markdown",
   "id": "8a0afc8d-ce33-4389-850a-8aa64099dbd0",
   "metadata": {},
   "source": [
    "# FILTER"
   ]
  },
  {
   "cell_type": "code",
   "execution_count": 51,
   "id": "164c5da4-6ecc-4f43-9ed8-580cc5eca334",
   "metadata": {},
   "outputs": [
    {
     "name": "stdout",
     "output_type": "stream",
     "text": [
      ":)\n",
      ":(\n",
      ":(\n",
      ":(\n",
      ":(\n"
     ]
    },
    {
     "data": {
      "text/plain": [
       "[]"
      ]
     },
     "execution_count": 51,
     "metadata": {},
     "output_type": "execute_result"
    }
   ],
   "source": [
    "list(filter(controlStr,myStringList))"
   ]
  },
  {
   "cell_type": "markdown",
   "id": "e5a80222-2ad7-46a8-9508-4d6b0402b8db",
   "metadata": {},
   "source": [
    "# LAMBDA"
   ]
  },
  {
   "cell_type": "code",
   "execution_count": 54,
   "id": "2feaa6ae-cc5d-463b-8bb0-54e39f2c0d89",
   "metadata": {},
   "outputs": [],
   "source": [
    "multiplyLambda = lambda num : num * 3 "
   ]
  },
  {
   "cell_type": "code",
   "execution_count": 56,
   "id": "3e6a7bc6-c628-47d2-b036-b8bc52936e90",
   "metadata": {},
   "outputs": [
    {
     "data": {
      "text/plain": [
       "function"
      ]
     },
     "execution_count": 56,
     "metadata": {},
     "output_type": "execute_result"
    }
   ],
   "source": [
    "type(multiplyLambda)"
   ]
  },
  {
   "cell_type": "code",
   "execution_count": 58,
   "id": "3d859ac4-c485-4f6a-8272-39bfa4a5d2de",
   "metadata": {},
   "outputs": [
    {
     "data": {
      "text/plain": [
       "60"
      ]
     },
     "execution_count": 58,
     "metadata": {},
     "output_type": "execute_result"
    }
   ],
   "source": [
    "multiplyLambda(20)"
   ]
  },
  {
   "cell_type": "code",
   "execution_count": 60,
   "id": "afc9e99a-de08-4794-904c-df58a5d36820",
   "metadata": {},
   "outputs": [],
   "source": [
    "result = multiplyLambda(40)"
   ]
  },
  {
   "cell_type": "code",
   "execution_count": 62,
   "id": "ae4b8887-5982-4624-9bc2-a5de64940680",
   "metadata": {},
   "outputs": [
    {
     "data": {
      "text/plain": [
       "120"
      ]
     },
     "execution_count": 62,
     "metadata": {},
     "output_type": "execute_result"
    }
   ],
   "source": [
    "result"
   ]
  },
  {
   "cell_type": "code",
   "execution_count": 64,
   "id": "1c916463-d8ff-43b2-ad5b-665221a76a5a",
   "metadata": {},
   "outputs": [],
   "source": [
    "numList = [10,20,30,40,50]"
   ]
  },
  {
   "cell_type": "code",
   "execution_count": 70,
   "id": "07cf3a8b-34f5-4fd5-ad67-12ddffe64c5e",
   "metadata": {},
   "outputs": [
    {
     "data": {
      "text/plain": [
       "[20, 40, 60, 80, 100]"
      ]
     },
     "execution_count": 70,
     "metadata": {},
     "output_type": "execute_result"
    }
   ],
   "source": [
    "list(map(lambda num:num*2,numList))"
   ]
  }
 ],
 "metadata": {
  "kernelspec": {
   "display_name": "Python 3 (ipykernel)",
   "language": "python",
   "name": "python3"
  },
  "language_info": {
   "codemirror_mode": {
    "name": "ipython",
    "version": 3
   },
   "file_extension": ".py",
   "mimetype": "text/x-python",
   "name": "python",
   "nbconvert_exporter": "python",
   "pygments_lexer": "ipython3",
   "version": "3.12.4"
  }
 },
 "nbformat": 4,
 "nbformat_minor": 5
}
