{
 "cells": [
  {
   "cell_type": "code",
   "execution_count": 2,
   "id": "c48414f5-e5c7-48da-a1f1-803b289832fc",
   "metadata": {},
   "outputs": [
    {
     "name": "stdin",
     "output_type": "stream",
     "text": [
      "Enter your age!:  23\n"
     ]
    }
   ],
   "source": [
    "age =  input(\"Enter your age!: \")"
   ]
  },
  {
   "cell_type": "code",
   "execution_count": 4,
   "id": "e98208a4-c804-4173-af3a-ff30dffb69a7",
   "metadata": {},
   "outputs": [
    {
     "data": {
      "text/plain": [
       "'23'"
      ]
     },
     "execution_count": 4,
     "metadata": {},
     "output_type": "execute_result"
    }
   ],
   "source": [
    "age"
   ]
  },
  {
   "cell_type": "code",
   "execution_count": 6,
   "id": "5643237c-01be-4b9f-a642-176bf5a18892",
   "metadata": {},
   "outputs": [],
   "source": [
    "# BURADA KULLANICI YA YAŞINI GİRMESEYDİ?"
   ]
  },
  {
   "cell_type": "code",
   "execution_count": 8,
   "id": "4fa7dc53-007c-4c46-a658-0241b8d7e2b2",
   "metadata": {},
   "outputs": [
    {
     "name": "stdin",
     "output_type": "stream",
     "text": [
      "Enter your age!:  emre\n"
     ]
    }
   ],
   "source": [
    "age =  input(\"Enter your age!: \")"
   ]
  },
  {
   "cell_type": "code",
   "execution_count": 10,
   "id": "34914f9a-454a-47a3-a3ba-f8df676e0c63",
   "metadata": {},
   "outputs": [
    {
     "data": {
      "text/plain": [
       "'emre'"
      ]
     },
     "execution_count": 10,
     "metadata": {},
     "output_type": "execute_result"
    }
   ],
   "source": [
    "age"
   ]
  },
  {
   "cell_type": "code",
   "execution_count": 18,
   "id": "4d638998-2f07-4f65-a272-76024c892edd",
   "metadata": {},
   "outputs": [
    {
     "data": {
      "text/plain": [
       "False"
      ]
     },
     "execution_count": 18,
     "metadata": {},
     "output_type": "execute_result"
    }
   ],
   "source": [
    "age.isdigit()"
   ]
  },
  {
   "cell_type": "markdown",
   "id": "98f88181-c55d-4276-8bee-1a6ad4483d39",
   "metadata": {},
   "source": [
    " "
   ]
  },
  {
   "cell_type": "markdown",
   "id": "8048f14b-32db-4264-9108-4f79024b2455",
   "metadata": {},
   "source": [
    "# TRY - EXCEPT"
   ]
  },
  {
   "cell_type": "code",
   "execution_count": 36,
   "id": "acbf841b-838a-4064-a67f-da366f940656",
   "metadata": {},
   "outputs": [
    {
     "name": "stdin",
     "output_type": "stream",
     "text": [
      "Lütfen yaşınızı giriniz:  emre\n"
     ]
    },
    {
     "name": "stdout",
     "output_type": "stream",
     "text": [
      "\n",
      "Lütfen yaşınızı doğru giriniz!!!!!\n"
     ]
    },
    {
     "name": "stdin",
     "output_type": "stream",
     "text": [
      "Lütfen yaşınızı giriniz:  yusuf\n"
     ]
    },
    {
     "name": "stdout",
     "output_type": "stream",
     "text": [
      "\n",
      "Lütfen yaşınızı doğru giriniz!!!!!\n"
     ]
    },
    {
     "name": "stdin",
     "output_type": "stream",
     "text": [
      "Lütfen yaşınızı giriniz:  23\n"
     ]
    },
    {
     "name": "stdout",
     "output_type": "stream",
     "text": [
      "Yaşınız 23\n"
     ]
    }
   ],
   "source": [
    "while 1==1:\n",
    "    try:\n",
    "        age2 = int(input(\"Lütfen yaşınızı giriniz: \"))\n",
    "        print(\"Yaşınız\",age2)\n",
    "        break\n",
    "\n",
    "    except:\n",
    "        print(\"\\nLütfen yaşınızı doğru giriniz!!!!!\")"
   ]
  }
 ],
 "metadata": {
  "kernelspec": {
   "display_name": "Python 3 (ipykernel)",
   "language": "python",
   "name": "python3"
  },
  "language_info": {
   "codemirror_mode": {
    "name": "ipython",
    "version": 3
   },
   "file_extension": ".py",
   "mimetype": "text/x-python",
   "name": "python",
   "nbconvert_exporter": "python",
   "pygments_lexer": "ipython3",
   "version": "3.12.4"
  }
 },
 "nbformat": 4,
 "nbformat_minor": 5
}
