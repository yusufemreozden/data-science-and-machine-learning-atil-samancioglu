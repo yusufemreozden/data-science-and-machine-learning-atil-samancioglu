{
 "cells": [
  {
   "cell_type": "code",
   "execution_count": 1,
   "id": "35756274-b388-4d70-99f9-664a20e07c1c",
   "metadata": {},
   "outputs": [],
   "source": [
    "class Fruit():\n",
    "\n",
    "    def __init__(self,name,calorie):\n",
    "        self.name = name\n",
    "        self.calorie = calorie"
   ]
  },
  {
   "cell_type": "code",
   "execution_count": 5,
   "id": "3c9ff0fe-3746-4214-a7e9-6499cb733d8e",
   "metadata": {},
   "outputs": [],
   "source": [
    "apple = Fruit(\"apple\",200)"
   ]
  },
  {
   "cell_type": "code",
   "execution_count": 7,
   "id": "75ff4818-e185-43f1-a13a-2658eae16084",
   "metadata": {},
   "outputs": [
    {
     "data": {
      "text/plain": [
       "200"
      ]
     },
     "execution_count": 7,
     "metadata": {},
     "output_type": "execute_result"
    }
   ],
   "source": [
    "apple.calorie"
   ]
  },
  {
   "cell_type": "code",
   "execution_count": 9,
   "id": "37b6372c-f669-474c-b83d-078b2746d4dc",
   "metadata": {},
   "outputs": [
    {
     "data": {
      "text/plain": [
       "'apple'"
      ]
     },
     "execution_count": 9,
     "metadata": {},
     "output_type": "execute_result"
    }
   ],
   "source": [
    "apple.name"
   ]
  },
  {
   "cell_type": "code",
   "execution_count": 11,
   "id": "283f7b12-d6ae-4465-9bbe-383e0515f235",
   "metadata": {},
   "outputs": [],
   "source": [
    "banana = Fruit(\"banana\",150)"
   ]
  },
  {
   "cell_type": "code",
   "execution_count": 13,
   "id": "9b6af9fc-81e4-4b8e-9406-7672e880a3cb",
   "metadata": {},
   "outputs": [
    {
     "data": {
      "text/plain": [
       "150"
      ]
     },
     "execution_count": 13,
     "metadata": {},
     "output_type": "execute_result"
    }
   ],
   "source": [
    "banana.calorie"
   ]
  },
  {
   "cell_type": "code",
   "execution_count": 19,
   "id": "1a1781c4-6a31-43dc-ba3c-eaf06326b8fa",
   "metadata": {},
   "outputs": [
    {
     "data": {
      "text/plain": [
       "'banana'"
      ]
     },
     "execution_count": 19,
     "metadata": {},
     "output_type": "execute_result"
    }
   ],
   "source": [
    "banana.name"
   ]
  },
  {
   "cell_type": "code",
   "execution_count": 25,
   "id": "64fbd2c7-712e-4465-bfe3-def2b9d90e29",
   "metadata": {},
   "outputs": [
    {
     "name": "stdout",
     "output_type": "stream",
     "text": [
      "<__main__.Fruit object at 0x130475b80>\n"
     ]
    }
   ],
   "source": [
    "print(banana)"
   ]
  },
  {
   "cell_type": "code",
   "execution_count": 39,
   "id": "14c92ee4-1909-4d8e-9c1a-4a9e948fd211",
   "metadata": {},
   "outputs": [],
   "source": [
    "class Fruit():\n",
    "\n",
    "    def __init__(self,name,calorie):\n",
    "        self.name = name\n",
    "        self.calorie = calorie\n",
    "\n",
    "    def __str__(self):\n",
    "        return f\"{self.name} is {self.calorie} calories!\""
   ]
  },
  {
   "cell_type": "code",
   "execution_count": 41,
   "id": "7d88dc38-d2e8-4b0f-abee-136f49116ba5",
   "metadata": {},
   "outputs": [],
   "source": [
    "banana = Fruit(\"banana\",150)"
   ]
  },
  {
   "cell_type": "code",
   "execution_count": 43,
   "id": "49b5e53b-798d-45e1-b971-c9c63899e98e",
   "metadata": {},
   "outputs": [
    {
     "data": {
      "text/plain": [
       "150"
      ]
     },
     "execution_count": 43,
     "metadata": {},
     "output_type": "execute_result"
    }
   ],
   "source": [
    "banana.calorie"
   ]
  },
  {
   "cell_type": "code",
   "execution_count": 45,
   "id": "af870af3-f035-40f8-b5a3-16c48acc65cf",
   "metadata": {},
   "outputs": [
    {
     "data": {
      "text/plain": [
       "'banana'"
      ]
     },
     "execution_count": 45,
     "metadata": {},
     "output_type": "execute_result"
    }
   ],
   "source": [
    "banana.name"
   ]
  },
  {
   "cell_type": "code",
   "execution_count": 47,
   "id": "d6f9245a-2e06-4a2a-8bf1-a2e7e5338676",
   "metadata": {},
   "outputs": [
    {
     "name": "stdout",
     "output_type": "stream",
     "text": [
      "banana is 150 calories!\n"
     ]
    }
   ],
   "source": [
    "print(banana)"
   ]
  }
 ],
 "metadata": {
  "kernelspec": {
   "display_name": "Python 3 (ipykernel)",
   "language": "python",
   "name": "python3"
  },
  "language_info": {
   "codemirror_mode": {
    "name": "ipython",
    "version": 3
   },
   "file_extension": ".py",
   "mimetype": "text/x-python",
   "name": "python",
   "nbconvert_exporter": "python",
   "pygments_lexer": "ipython3",
   "version": "3.12.4"
  }
 },
 "nbformat": 4,
 "nbformat_minor": 5
}
