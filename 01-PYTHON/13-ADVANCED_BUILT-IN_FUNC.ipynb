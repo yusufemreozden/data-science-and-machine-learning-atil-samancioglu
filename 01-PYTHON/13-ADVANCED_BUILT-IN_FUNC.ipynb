{
 "cells": [
  {
   "cell_type": "code",
   "execution_count": 3,
   "id": "1e1894ab-aff2-4f2c-a37c-90f88d5fe985",
   "metadata": {},
   "outputs": [
    {
     "name": "stdout",
     "output_type": "stream",
     "text": [
      "5.0\n",
      "10.0\n",
      "15.0\n",
      "20.0\n",
      "25.0\n",
      "30.0\n",
      "35.0\n"
     ]
    }
   ],
   "source": [
    "myList = [10,20,30,40,50,60,70]\n",
    "\n",
    "for num in myList:\n",
    "    print(num/2)"
   ]
  },
  {
   "cell_type": "markdown",
   "id": "c1c3f723-34b6-427a-bd8a-7e103b504585",
   "metadata": {},
   "source": [
    "# RANGE"
   ]
  },
  {
   "cell_type": "code",
   "execution_count": null,
   "id": "49a51e21-1297-451c-8959-a140138813b2",
   "metadata": {},
   "outputs": [],
   "source": []
  }
 ],
 "metadata": {
  "kernelspec": {
   "display_name": "Python 3 (ipykernel)",
   "language": "python",
   "name": "python3"
  },
  "language_info": {
   "codemirror_mode": {
    "name": "ipython",
    "version": 3
   },
   "file_extension": ".py",
   "mimetype": "text/x-python",
   "name": "python",
   "nbconvert_exporter": "python",
   "pygments_lexer": "ipython3",
   "version": "3.12.4"
  }
 },
 "nbformat": 4,
 "nbformat_minor": 5
}
