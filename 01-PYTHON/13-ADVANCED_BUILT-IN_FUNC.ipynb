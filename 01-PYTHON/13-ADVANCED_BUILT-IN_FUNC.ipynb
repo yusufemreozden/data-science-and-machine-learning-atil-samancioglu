{
 "cells": [
  {
   "cell_type": "code",
   "execution_count": 3,
   "id": "1e1894ab-aff2-4f2c-a37c-90f88d5fe985",
   "metadata": {},
   "outputs": [
    {
     "name": "stdout",
     "output_type": "stream",
     "text": [
      "5.0\n",
      "10.0\n",
      "15.0\n",
      "20.0\n",
      "25.0\n",
      "30.0\n",
      "35.0\n"
     ]
    }
   ],
   "source": [
    "myList = [10,20,30,40,50,60,70]\n",
    "\n",
    "for num in myList:\n",
    "    print(num/2)"
   ]
  },
  {
   "cell_type": "markdown",
   "id": "c1c3f723-34b6-427a-bd8a-7e103b504585",
   "metadata": {},
   "source": [
    "# RANGE"
   ]
  },
  {
   "cell_type": "code",
   "execution_count": 27,
   "id": "49a51e21-1297-451c-8959-a140138813b2",
   "metadata": {},
   "outputs": [
    {
     "data": {
      "text/plain": [
       "range(0, 10)"
      ]
     },
     "execution_count": 27,
     "metadata": {},
     "output_type": "execute_result"
    }
   ],
   "source": [
    "range(10)"
   ]
  },
  {
   "cell_type": "code",
   "execution_count": 60,
   "id": "7f0ac5f3-4b1c-4624-ac03-74a67f8ec01b",
   "metadata": {},
   "outputs": [],
   "source": [
    "myList = list(range(10))"
   ]
  },
  {
   "cell_type": "code",
   "execution_count": 62,
   "id": "23c900ac-5513-421b-91b5-20da87dae285",
   "metadata": {},
   "outputs": [
    {
     "data": {
      "text/plain": [
       "[0, 1, 2, 3, 4, 5, 6, 7, 8, 9]"
      ]
     },
     "execution_count": 62,
     "metadata": {},
     "output_type": "execute_result"
    }
   ],
   "source": [
    "myList"
   ]
  },
  {
   "cell_type": "code",
   "execution_count": 64,
   "id": "8710e027-6257-47c2-a0e6-716579bbaf91",
   "metadata": {},
   "outputs": [],
   "source": [
    "myList2 = list(range(5,20))"
   ]
  },
  {
   "cell_type": "code",
   "execution_count": 66,
   "id": "727224bb-c5c4-45c8-9a2d-45d28946549b",
   "metadata": {},
   "outputs": [
    {
     "data": {
      "text/plain": [
       "[5, 6, 7, 8, 9, 10, 11, 12, 13, 14, 15, 16, 17, 18, 19]"
      ]
     },
     "execution_count": 66,
     "metadata": {},
     "output_type": "execute_result"
    }
   ],
   "source": [
    "myList2"
   ]
  },
  {
   "cell_type": "code",
   "execution_count": 68,
   "id": "90e61203-1646-4f77-bd95-f0fe4f4e79d9",
   "metadata": {},
   "outputs": [],
   "source": [
    "myList3 = list(range(5,25,2))"
   ]
  },
  {
   "cell_type": "code",
   "execution_count": 70,
   "id": "d6d4371c-0128-4b64-a518-235458357435",
   "metadata": {},
   "outputs": [
    {
     "data": {
      "text/plain": [
       "[5, 7, 9, 11, 13, 15, 17, 19, 21, 23]"
      ]
     },
     "execution_count": 70,
     "metadata": {},
     "output_type": "execute_result"
    }
   ],
   "source": [
    "myList3"
   ]
  },
  {
   "cell_type": "code",
   "execution_count": 72,
   "id": "a3d04295-e7d4-4cd1-acdb-ed56b7423df3",
   "metadata": {},
   "outputs": [],
   "source": [
    "my_list = [10,20,30,40,50,60]"
   ]
  },
  {
   "cell_type": "code",
   "execution_count": 74,
   "id": "53055d38-829b-43c8-b02e-6a7db7435563",
   "metadata": {},
   "outputs": [
    {
     "name": "stdout",
     "output_type": "stream",
     "text": [
      "0\n",
      "1\n",
      "2\n",
      "3\n",
      "4\n",
      "5\n"
     ]
    }
   ],
   "source": [
    "for index in range(len(my_list)):\n",
    "    print(index)"
   ]
  },
  {
   "cell_type": "markdown",
   "id": "94427319-ba51-48d2-a201-f887b4a630f7",
   "metadata": {},
   "source": [
    "# ENUMERATE"
   ]
  },
  {
   "cell_type": "code",
   "execution_count": 79,
   "id": "abdbf6bb-407e-4f8d-9481-ee47dd11c206",
   "metadata": {},
   "outputs": [
    {
     "name": "stdout",
     "output_type": "stream",
     "text": [
      "(0, 10)\n",
      "(1, 20)\n",
      "(2, 30)\n",
      "(3, 40)\n",
      "(4, 50)\n",
      "(5, 60)\n"
     ]
    }
   ],
   "source": [
    "for item in enumerate(my_list):\n",
    "    print(item)"
   ]
  },
  {
   "cell_type": "code",
   "execution_count": 85,
   "id": "01e8e76f-18a6-4886-a33b-f95f0a65f195",
   "metadata": {},
   "outputs": [
    {
     "name": "stdout",
     "output_type": "stream",
     "text": [
      "10\n",
      "20\n",
      "30\n",
      "40\n",
      "50\n",
      "60\n"
     ]
    }
   ],
   "source": [
    "for (index,value) in enumerate(my_list):\n",
    "    print(value)"
   ]
  },
  {
   "cell_type": "code",
   "execution_count": 87,
   "id": "8bee637f-f6b2-4506-97a7-f3125b4c9188",
   "metadata": {},
   "outputs": [
    {
     "name": "stdout",
     "output_type": "stream",
     "text": [
      "0\n",
      "1\n",
      "2\n",
      "3\n",
      "4\n",
      "5\n"
     ]
    }
   ],
   "source": [
    "for (index,value) in enumerate(my_list):\n",
    "    print(index)"
   ]
  },
  {
   "cell_type": "markdown",
   "id": "4a5f2ab2-3711-40be-bd50-ed61c8bdabde",
   "metadata": {},
   "source": [
    "# RANDOM"
   ]
  },
  {
   "cell_type": "code",
   "execution_count": 92,
   "id": "5f1afbdf-3488-4295-8039-a0df30d002a1",
   "metadata": {},
   "outputs": [],
   "source": [
    "from random import randint"
   ]
  },
  {
   "cell_type": "code",
   "execution_count": 94,
   "id": "c64df136-813d-49fb-a7fd-e8a9cd96c8aa",
   "metadata": {},
   "outputs": [
    {
     "data": {
      "text/plain": [
       "7"
      ]
     },
     "execution_count": 94,
     "metadata": {},
     "output_type": "execute_result"
    }
   ],
   "source": [
    "randint(0,100)"
   ]
  },
  {
   "cell_type": "code",
   "execution_count": 96,
   "id": "ed233700-80bf-4012-8ce9-8efc8bad1b40",
   "metadata": {},
   "outputs": [
    {
     "data": {
      "text/plain": [
       "88"
      ]
     },
     "execution_count": 96,
     "metadata": {},
     "output_type": "execute_result"
    }
   ],
   "source": [
    "randint(0,100)"
   ]
  },
  {
   "cell_type": "code",
   "execution_count": 98,
   "id": "8492498a-e37e-4985-abde-17a4ca874ff8",
   "metadata": {},
   "outputs": [
    {
     "data": {
      "text/plain": [
       "47"
      ]
     },
     "execution_count": 98,
     "metadata": {},
     "output_type": "execute_result"
    }
   ],
   "source": [
    "randint(0,100)"
   ]
  },
  {
   "cell_type": "code",
   "execution_count": 100,
   "id": "323edbd8-1d1b-467c-a5e7-f210c63d9db9",
   "metadata": {},
   "outputs": [
    {
     "data": {
      "text/plain": [
       "33"
      ]
     },
     "execution_count": 100,
     "metadata": {},
     "output_type": "execute_result"
    }
   ],
   "source": [
    "randint(0,100)"
   ]
  },
  {
   "cell_type": "code",
   "execution_count": 102,
   "id": "5bea7aa8-b8b5-40de-9433-8b4b8231bf78",
   "metadata": {},
   "outputs": [],
   "source": [
    "from random import shuffle"
   ]
  },
  {
   "cell_type": "code",
   "execution_count": 117,
   "id": "a98ea20b-a1d4-444e-9ee3-e22775304c19",
   "metadata": {},
   "outputs": [],
   "source": [
    "my_list = [10, 20, 30, 40, 50, 60]"
   ]
  },
  {
   "cell_type": "code",
   "execution_count": 121,
   "id": "41b85ac5-91b1-41e3-9fd2-8045d6199272",
   "metadata": {},
   "outputs": [],
   "source": [
    "shuffle(my_list)"
   ]
  },
  {
   "cell_type": "code",
   "execution_count": 123,
   "id": "9884ac6c-d952-4aa3-978e-49687c69ff9d",
   "metadata": {},
   "outputs": [
    {
     "data": {
      "text/plain": [
       "[20, 30, 40, 60, 50, 10]"
      ]
     },
     "execution_count": 123,
     "metadata": {},
     "output_type": "execute_result"
    }
   ],
   "source": [
    "my_list"
   ]
  },
  {
   "cell_type": "code",
   "execution_count": 129,
   "id": "836be6c1-8f7a-4989-b87a-dd17f5bb98b1",
   "metadata": {},
   "outputs": [
    {
     "data": {
      "text/plain": [
       "50"
      ]
     },
     "execution_count": 129,
     "metadata": {},
     "output_type": "execute_result"
    }
   ],
   "source": [
    "my_list[randint(0,len(my_list)-1)]"
   ]
  },
  {
   "cell_type": "markdown",
   "id": "b9e1b17b-5067-4000-b605-3c0384db500b",
   "metadata": {},
   "source": [
    "# ZIP"
   ]
  },
  {
   "cell_type": "code",
   "execution_count": 132,
   "id": "fd3b9209-9cef-48e4-86fe-298b7ced87f1",
   "metadata": {},
   "outputs": [],
   "source": [
    "foodList = [\"apple\",\"orange\",\"banana\",\"melon\"]"
   ]
  },
  {
   "cell_type": "code",
   "execution_count": 134,
   "id": "5c66af98-a66d-47c2-b13c-d9306b100857",
   "metadata": {},
   "outputs": [],
   "source": [
    "calorieList = [100,200,300,400]"
   ]
  },
  {
   "cell_type": "code",
   "execution_count": 138,
   "id": "efb90da6-2340-4f3d-b854-4928afa508a5",
   "metadata": {},
   "outputs": [],
   "source": [
    "dayList = [\"Sunday\",\"Saturday\",\"Tuesday\",\"Friday\"]"
   ]
  },
  {
   "cell_type": "code",
   "execution_count": 140,
   "id": "a309cd0d-c0c5-4412-8629-c92e563810df",
   "metadata": {},
   "outputs": [],
   "source": [
    "zippedList = zip(foodList,calorieList,dayList)"
   ]
  },
  {
   "cell_type": "code",
   "execution_count": 142,
   "id": "b00b7d9a-4214-47b2-9c17-2d7042926285",
   "metadata": {},
   "outputs": [
    {
     "data": {
      "text/plain": [
       "<zip at 0x1425c3440>"
      ]
     },
     "execution_count": 142,
     "metadata": {},
     "output_type": "execute_result"
    }
   ],
   "source": [
    "zippedList"
   ]
  },
  {
   "cell_type": "code",
   "execution_count": 144,
   "id": "f6e9c6cc-6673-4b74-9f24-8d8e7518866e",
   "metadata": {},
   "outputs": [],
   "source": [
    "zippedList = list(zip(foodList,calorieList,dayList))"
   ]
  },
  {
   "cell_type": "code",
   "execution_count": 146,
   "id": "adf349da-efc3-411b-bb61-cc25fe03a400",
   "metadata": {},
   "outputs": [
    {
     "data": {
      "text/plain": [
       "[('apple', 100, 'Sunday'),\n",
       " ('orange', 200, 'Saturday'),\n",
       " ('banana', 300, 'Tuesday'),\n",
       " ('melon', 400, 'Friday')]"
      ]
     },
     "execution_count": 146,
     "metadata": {},
     "output_type": "execute_result"
    }
   ],
   "source": [
    "zippedList"
   ]
  },
  {
   "cell_type": "code",
   "execution_count": 150,
   "id": "56487ea6-ecde-46a7-9122-bb090b6170d7",
   "metadata": {},
   "outputs": [],
   "source": [
    "new_list = []\n",
    "myString = \"metallica\"\n",
    "\n",
    "for element in myString:\n",
    "    new_list.append(element)"
   ]
  },
  {
   "cell_type": "code",
   "execution_count": 152,
   "id": "f24f5d53-56cf-4029-b261-753c0cbc340c",
   "metadata": {},
   "outputs": [
    {
     "data": {
      "text/plain": [
       "['m', 'e', 't', 'a', 'l', 'l', 'i', 'c', 'a']"
      ]
     },
     "execution_count": 152,
     "metadata": {},
     "output_type": "execute_result"
    }
   ],
   "source": [
    "new_list"
   ]
  },
  {
   "cell_type": "code",
   "execution_count": 160,
   "id": "e75ea675-578e-4361-b7b1-ca27094f4a80",
   "metadata": {},
   "outputs": [],
   "source": [
    "number_list = [10,20,30,40]\n",
    "new_number_list = []"
   ]
  },
  {
   "cell_type": "code",
   "execution_count": 162,
   "id": "3623404e-c23a-4f3a-bae5-692a570dd9df",
   "metadata": {},
   "outputs": [],
   "source": [
    "new_number_list = [num for num in number_list]"
   ]
  },
  {
   "cell_type": "code",
   "execution_count": 166,
   "id": "203c9d5f-936a-4fe3-b57d-98924b66a605",
   "metadata": {},
   "outputs": [
    {
     "data": {
      "text/plain": [
       "[10, 20, 30, 40]"
      ]
     },
     "execution_count": 166,
     "metadata": {},
     "output_type": "execute_result"
    }
   ],
   "source": [
    "new_number_list"
   ]
  },
  {
   "cell_type": "code",
   "execution_count": null,
   "id": "deb20918-40dc-494a-a56a-bd855757bdf6",
   "metadata": {},
   "outputs": [],
   "source": []
  }
 ],
 "metadata": {
  "kernelspec": {
   "display_name": "Python 3 (ipykernel)",
   "language": "python",
   "name": "python3"
  },
  "language_info": {
   "codemirror_mode": {
    "name": "ipython",
    "version": 3
   },
   "file_extension": ".py",
   "mimetype": "text/x-python",
   "name": "python",
   "nbconvert_exporter": "python",
   "pygments_lexer": "ipython3",
   "version": "3.12.4"
  }
 },
 "nbformat": 4,
 "nbformat_minor": 5
}
