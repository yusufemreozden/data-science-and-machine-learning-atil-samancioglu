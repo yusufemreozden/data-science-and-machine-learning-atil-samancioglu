{
 "cells": [
  {
   "cell_type": "code",
   "execution_count": 2,
   "id": "88ba37f8-1709-4b67-ad1b-21ae430dcc53",
   "metadata": {},
   "outputs": [],
   "source": [
    "emreName = \"yusuf emre\""
   ]
  },
  {
   "cell_type": "code",
   "execution_count": 4,
   "id": "1dab6cd7-9e2c-4555-9ed9-c68f85f1f071",
   "metadata": {},
   "outputs": [],
   "source": [
    "emreSurname = \"ozden\""
   ]
  },
  {
   "cell_type": "code",
   "execution_count": 6,
   "id": "e49e503f-d761-4ff0-92c2-fa79e27eda26",
   "metadata": {},
   "outputs": [],
   "source": [
    "emreAge = 23"
   ]
  },
  {
   "cell_type": "code",
   "execution_count": 8,
   "id": "4c1f602e-effe-4631-ade4-8d8c568e588e",
   "metadata": {},
   "outputs": [],
   "source": [
    "emreGender = \"male\""
   ]
  },
  {
   "cell_type": "code",
   "execution_count": 10,
   "id": "38ceac39-3a17-4c86-b030-498e7da62e51",
   "metadata": {},
   "outputs": [],
   "source": [
    "onurName = \"onurcan\""
   ]
  },
  {
   "cell_type": "code",
   "execution_count": 12,
   "id": "cfd289bc-4efa-4c5d-a2ef-990104a0643e",
   "metadata": {},
   "outputs": [],
   "source": [
    "onurSurname = \"ozek\""
   ]
  },
  {
   "cell_type": "code",
   "execution_count": 14,
   "id": "31853db2-f8aa-4b9d-8d2c-9de4a11b0669",
   "metadata": {},
   "outputs": [],
   "source": [
    "onurAge = 25"
   ]
  },
  {
   "cell_type": "code",
   "execution_count": 16,
   "id": "0ba6e6e0-f103-4205-8a28-3eaed0b5893b",
   "metadata": {},
   "outputs": [],
   "source": [
    "onurGender = \"male\""
   ]
  },
  {
   "cell_type": "code",
   "execution_count": 58,
   "id": "5b714cda-1120-4edb-aba9-9d39a81032e8",
   "metadata": {},
   "outputs": [],
   "source": [
    "class Person():\n",
    "    name = \"\"\n",
    "    surname = \"\"\n",
    "    age = 0\n",
    "    gender = \"\""
   ]
  },
  {
   "cell_type": "code",
   "execution_count": 60,
   "id": "0f124f3e-706f-488a-94bf-db5a3499abc1",
   "metadata": {},
   "outputs": [],
   "source": [
    "myList = list() # ASLINDA LIST YAPISI DA BİR SINIF."
   ]
  },
  {
   "cell_type": "code",
   "execution_count": 62,
   "id": "3d8afec5-5203-4fc3-871d-67b68b67d577",
   "metadata": {},
   "outputs": [
    {
     "data": {
      "text/plain": [
       "list"
      ]
     },
     "execution_count": 62,
     "metadata": {},
     "output_type": "execute_result"
    }
   ],
   "source": [
    "type(myList)"
   ]
  },
  {
   "cell_type": "code",
   "execution_count": 64,
   "id": "8c02de32-c1f1-484a-85d7-5f045f91d443",
   "metadata": {},
   "outputs": [],
   "source": [
    "emre = Person()"
   ]
  },
  {
   "cell_type": "code",
   "execution_count": 66,
   "id": "2dd59134-2d9c-4c4f-bf52-fc541924fd5a",
   "metadata": {},
   "outputs": [
    {
     "data": {
      "text/plain": [
       "__main__.Person"
      ]
     },
     "execution_count": 66,
     "metadata": {},
     "output_type": "execute_result"
    }
   ],
   "source": [
    "type(emre)"
   ]
  },
  {
   "cell_type": "code",
   "execution_count": 68,
   "id": "e7d6f97f-cbec-4ab8-aabe-0a4504bda069",
   "metadata": {},
   "outputs": [],
   "source": [
    "emre.name = \"yusuf emre\" "
   ]
  },
  {
   "cell_type": "code",
   "execution_count": 70,
   "id": "2f79a376-7d1b-457a-9d49-957f08695225",
   "metadata": {},
   "outputs": [],
   "source": [
    "emre.surname = \"ozden\""
   ]
  },
  {
   "cell_type": "code",
   "execution_count": 74,
   "id": "42399906-f2f9-498b-99e0-dc64c353eeab",
   "metadata": {},
   "outputs": [],
   "source": [
    "emre.age = 23"
   ]
  },
  {
   "cell_type": "code",
   "execution_count": 76,
   "id": "10e4083b-dc87-4273-b79d-745c95961154",
   "metadata": {},
   "outputs": [],
   "source": [
    "emre.gender = \"male\""
   ]
  },
  {
   "cell_type": "code",
   "execution_count": 80,
   "id": "e13fc9cd-6f47-4d76-ba23-0ef9835d160a",
   "metadata": {},
   "outputs": [],
   "source": [
    "class Person():\n",
    "    name = \"\"\n",
    "    surname = \"\"\n",
    "    age = 0\n",
    "    gender = \"\"\n",
    "\n",
    "    #method, initializer \n",
    "    def __init__(self):\n",
    "        print(\"init executed!\")"
   ]
  },
  {
   "cell_type": "code",
   "execution_count": 86,
   "id": "427ad1ed-cc44-43f1-b620-2ac1ccef34ad",
   "metadata": {},
   "outputs": [
    {
     "name": "stdout",
     "output_type": "stream",
     "text": [
      "init executed!\n"
     ]
    }
   ],
   "source": [
    "onur = Person()"
   ]
  },
  {
   "cell_type": "code",
   "execution_count": 88,
   "id": "9ae4969a-a629-4447-8a72-640be03a28fc",
   "metadata": {},
   "outputs": [],
   "source": [
    "onur.name = \"onurcan\""
   ]
  },
  {
   "cell_type": "code",
   "execution_count": 92,
   "id": "b25fc90d-ebd8-4924-acab-54a5960030f8",
   "metadata": {},
   "outputs": [
    {
     "data": {
      "text/plain": [
       "__main__.Person"
      ]
     },
     "execution_count": 92,
     "metadata": {},
     "output_type": "execute_result"
    }
   ],
   "source": [
    "type(onur)"
   ]
  },
  {
   "cell_type": "code",
   "execution_count": 94,
   "id": "4781d367-e5e9-4c76-b00b-f6a7fadef107",
   "metadata": {},
   "outputs": [],
   "source": [
    "class Person():\n",
    "    name = \"\"\n",
    "    surname = \"\"\n",
    "    age = 0\n",
    "    gender = \"\"\n",
    "\n",
    "    #method, initializer \n",
    "    def __init__(self,nameInput,surnameInput,ageInput,genderInput):\n",
    "        name = nameInput\n",
    "        surname = surnameInput\n",
    "        age = ageInput\n",
    "        gender = genderInput"
   ]
  },
  {
   "cell_type": "code",
   "execution_count": 98,
   "id": "8f5e6077-9043-4a83-b84a-5770aa9c4479",
   "metadata": {},
   "outputs": [],
   "source": [
    "umut = Person(\"umut\",\"kaplan\",23,\"male\")"
   ]
  },
  {
   "cell_type": "code",
   "execution_count": 104,
   "id": "fd3d60bd-51da-4e0c-855b-d405bd4ba13f",
   "metadata": {},
   "outputs": [
    {
     "data": {
      "text/plain": [
       "0"
      ]
     },
     "execution_count": 104,
     "metadata": {},
     "output_type": "execute_result"
    }
   ],
   "source": [
    "umut.age"
   ]
  },
  {
   "cell_type": "code",
   "execution_count": 106,
   "id": "c255e907-7e01-46ee-9a0c-58ce47e9aa2e",
   "metadata": {},
   "outputs": [
    {
     "data": {
      "text/plain": [
       "''"
      ]
     },
     "execution_count": 106,
     "metadata": {},
     "output_type": "execute_result"
    }
   ],
   "source": [
    "umut.name"
   ]
  },
  {
   "cell_type": "code",
   "execution_count": 108,
   "id": "5c3d01a2-07ef-48a8-bd08-4b7ab60f9d4a",
   "metadata": {},
   "outputs": [
    {
     "data": {
      "text/plain": [
       "''"
      ]
     },
     "execution_count": 108,
     "metadata": {},
     "output_type": "execute_result"
    }
   ],
   "source": [
    "umut.gender"
   ]
  },
  {
   "cell_type": "code",
   "execution_count": 120,
   "id": "1a402afb-6a99-4110-9bd0-c47fa7ce9386",
   "metadata": {},
   "outputs": [],
   "source": [
    "class Person():\n",
    "    #property\n",
    "    name = \"\"\n",
    "    surname = \"\"\n",
    "    age = 0\n",
    "    gender = \"\"\n",
    "\n",
    "    #method, initializer \n",
    "    def __init__(self,name,surname,age,gender):\n",
    "        self.name = name\n",
    "        self.surname = surname\n",
    "        self.age = age\n",
    "        self.gender = gender"
   ]
  },
  {
   "cell_type": "code",
   "execution_count": 122,
   "id": "5d20206f-6053-4fa4-ae38-cdeda2e653fa",
   "metadata": {},
   "outputs": [],
   "source": [
    "omer = Person(\"omer faruk\",\"erdogan\",22,\"male\")"
   ]
  },
  {
   "cell_type": "code",
   "execution_count": 124,
   "id": "7f3419ae-9c03-4956-9563-16529d03b943",
   "metadata": {},
   "outputs": [
    {
     "data": {
      "text/plain": [
       "22"
      ]
     },
     "execution_count": 124,
     "metadata": {},
     "output_type": "execute_result"
    }
   ],
   "source": [
    "omer.age"
   ]
  },
  {
   "cell_type": "code",
   "execution_count": 126,
   "id": "3e7d441f-2284-4b5a-9340-ac085942395e",
   "metadata": {},
   "outputs": [
    {
     "data": {
      "text/plain": [
       "'male'"
      ]
     },
     "execution_count": 126,
     "metadata": {},
     "output_type": "execute_result"
    }
   ],
   "source": [
    "omer.gender"
   ]
  },
  {
   "cell_type": "code",
   "execution_count": 128,
   "id": "0653e80c-3c9e-41f8-be23-c34ca70f9341",
   "metadata": {},
   "outputs": [],
   "source": [
    "class Person():\n",
    "    #method, initializer \n",
    "    def __init__(self,name,surname,age,gender):\n",
    "        self.name = name\n",
    "        self.surname = surname\n",
    "        self.age = age\n",
    "        self.gender = gender"
   ]
  },
  {
   "cell_type": "code",
   "execution_count": 132,
   "id": "7cae0894-558b-42fb-9ef0-185016f6bed8",
   "metadata": {},
   "outputs": [],
   "source": [
    "gozde = Person(\"gozde\",\"bozkurt\",22,\"female\")"
   ]
  },
  {
   "cell_type": "code",
   "execution_count": 134,
   "id": "1ae375df-d3ae-43a9-89e3-e640a5b5a065",
   "metadata": {},
   "outputs": [
    {
     "data": {
      "text/plain": [
       "'gozde'"
      ]
     },
     "execution_count": 134,
     "metadata": {},
     "output_type": "execute_result"
    }
   ],
   "source": [
    "gozde.name"
   ]
  },
  {
   "cell_type": "code",
   "execution_count": 136,
   "id": "1000f9ba-2e01-4482-ad0f-590ffdbea320",
   "metadata": {},
   "outputs": [
    {
     "data": {
      "text/plain": [
       "'female'"
      ]
     },
     "execution_count": 136,
     "metadata": {},
     "output_type": "execute_result"
    }
   ],
   "source": [
    "gozde.gender"
   ]
  },
  {
   "cell_type": "code",
   "execution_count": 150,
   "id": "0e25314e-79bf-4296-8f18-a21a52e91743",
   "metadata": {},
   "outputs": [],
   "source": [
    "class Dog():\n",
    "\n",
    "    def __init__(self,age):\n",
    "        self.age = age\n",
    "\n",
    "    def humanAge(self):\n",
    "        return self.age * 7"
   ]
  },
  {
   "cell_type": "code",
   "execution_count": 152,
   "id": "d71f5846-38c5-4f0a-baa2-6e5f75516200",
   "metadata": {},
   "outputs": [],
   "source": [
    "myDog = Dog(7)"
   ]
  },
  {
   "cell_type": "code",
   "execution_count": 154,
   "id": "e0fb0459-80de-4a6f-ac62-a8d9dcb1ec8e",
   "metadata": {},
   "outputs": [
    {
     "data": {
      "text/plain": [
       "7"
      ]
     },
     "execution_count": 154,
     "metadata": {},
     "output_type": "execute_result"
    }
   ],
   "source": [
    "myDog.age"
   ]
  },
  {
   "cell_type": "code",
   "execution_count": 158,
   "id": "34aab211-5832-4251-95be-1b9cd1ca997b",
   "metadata": {},
   "outputs": [
    {
     "data": {
      "text/plain": [
       "49"
      ]
     },
     "execution_count": 158,
     "metadata": {},
     "output_type": "execute_result"
    }
   ],
   "source": [
    "myDog.humanAge()"
   ]
  }
 ],
 "metadata": {
  "kernelspec": {
   "display_name": "Python 3 (ipykernel)",
   "language": "python",
   "name": "python3"
  },
  "language_info": {
   "codemirror_mode": {
    "name": "ipython",
    "version": 3
   },
   "file_extension": ".py",
   "mimetype": "text/x-python",
   "name": "python",
   "nbconvert_exporter": "python",
   "pygments_lexer": "ipython3",
   "version": "3.12.4"
  }
 },
 "nbformat": 4,
 "nbformat_minor": 5
}
