{
 "cells": [
  {
   "cell_type": "markdown",
   "id": "9cf568c0-b096-4cf3-b62e-cbadbdcf67d8",
   "metadata": {},
   "source": [
    "# COMPARES"
   ]
  },
  {
   "cell_type": "code",
   "execution_count": 5,
   "id": "383f4ea4-ffca-436b-a496-1ca80cfb454d",
   "metadata": {},
   "outputs": [],
   "source": [
    "x = 5\n",
    "y = 2"
   ]
  },
  {
   "cell_type": "code",
   "execution_count": 7,
   "id": "e9d84ac3-6da1-429e-97d0-6fa688148933",
   "metadata": {},
   "outputs": [
    {
     "data": {
      "text/plain": [
       "False"
      ]
     },
     "execution_count": 7,
     "metadata": {},
     "output_type": "execute_result"
    }
   ],
   "source": [
    "x < y"
   ]
  },
  {
   "cell_type": "code",
   "execution_count": 9,
   "id": "6c413451-d7df-4d0b-8b49-27d879fe7241",
   "metadata": {},
   "outputs": [
    {
     "data": {
      "text/plain": [
       "True"
      ]
     },
     "execution_count": 9,
     "metadata": {},
     "output_type": "execute_result"
    }
   ],
   "source": [
    "x > y"
   ]
  },
  {
   "cell_type": "code",
   "execution_count": 11,
   "id": "64a52fac-0d0c-4702-9ffb-499d04165824",
   "metadata": {},
   "outputs": [
    {
     "data": {
      "text/plain": [
       "False"
      ]
     },
     "execution_count": 11,
     "metadata": {},
     "output_type": "execute_result"
    }
   ],
   "source": [
    "x == 2"
   ]
  },
  {
   "cell_type": "code",
   "execution_count": 13,
   "id": "a249edef-01ce-48ed-aa03-18fae0956956",
   "metadata": {},
   "outputs": [
    {
     "data": {
      "text/plain": [
       "True"
      ]
     },
     "execution_count": 13,
     "metadata": {},
     "output_type": "execute_result"
    }
   ],
   "source": [
    "x == 5"
   ]
  },
  {
   "cell_type": "code",
   "execution_count": 17,
   "id": "1642f920-6ab7-47fb-bf39-973e924a4d1d",
   "metadata": {},
   "outputs": [
    {
     "data": {
      "text/plain": [
       "True"
      ]
     },
     "execution_count": 17,
     "metadata": {},
     "output_type": "execute_result"
    }
   ],
   "source": [
    "x >= y"
   ]
  },
  {
   "cell_type": "code",
   "execution_count": 19,
   "id": "28592eb5-488c-485f-94d9-112bb3855fa0",
   "metadata": {},
   "outputs": [
    {
     "data": {
      "text/plain": [
       "True"
      ]
     },
     "execution_count": 19,
     "metadata": {},
     "output_type": "execute_result"
    }
   ],
   "source": [
    "x != y"
   ]
  },
  {
   "cell_type": "code",
   "execution_count": 21,
   "id": "a435eba6-ef9d-4680-b6f2-e5b9d3b7621b",
   "metadata": {},
   "outputs": [
    {
     "data": {
      "text/plain": [
       "True"
      ]
     },
     "execution_count": 21,
     "metadata": {},
     "output_type": "execute_result"
    }
   ],
   "source": [
    "2 > 1 and 5 < 9"
   ]
  },
  {
   "cell_type": "code",
   "execution_count": 23,
   "id": "db124497-538e-49d3-a794-0fccf61bc2b5",
   "metadata": {},
   "outputs": [
    {
     "data": {
      "text/plain": [
       "True"
      ]
     },
     "execution_count": 23,
     "metadata": {},
     "output_type": "execute_result"
    }
   ],
   "source": [
    "2 > 1 or 5 > 9"
   ]
  },
  {
   "cell_type": "code",
   "execution_count": 27,
   "id": "56ec07cc-5778-49c3-a0e1-da45c03d736f",
   "metadata": {},
   "outputs": [
    {
     "data": {
      "text/plain": [
       "False"
      ]
     },
     "execution_count": 27,
     "metadata": {},
     "output_type": "execute_result"
    }
   ],
   "source": [
    "2 > 1 and 5 > 9"
   ]
  },
  {
   "cell_type": "code",
   "execution_count": 29,
   "id": "f2091ea1-30c1-4b1e-abc8-74373d9522d8",
   "metadata": {},
   "outputs": [
    {
     "data": {
      "text/plain": [
       "False"
      ]
     },
     "execution_count": 29,
     "metadata": {},
     "output_type": "execute_result"
    }
   ],
   "source": [
    "not 1 == 1"
   ]
  },
  {
   "cell_type": "code",
   "execution_count": 33,
   "id": "3d64031f-cd07-41f6-b031-84952e42bf6a",
   "metadata": {},
   "outputs": [
    {
     "data": {
      "text/plain": [
       "True"
      ]
     },
     "execution_count": 33,
     "metadata": {},
     "output_type": "execute_result"
    }
   ],
   "source": [
    "not 1 != 1"
   ]
  },
  {
   "cell_type": "code",
   "execution_count": 35,
   "id": "9ff40815-2983-447f-970d-ac6c4425771c",
   "metadata": {},
   "outputs": [
    {
     "data": {
      "text/plain": [
       "True"
      ]
     },
     "execution_count": 35,
     "metadata": {},
     "output_type": "execute_result"
    }
   ],
   "source": [
    "10 in [10,20,30]"
   ]
  },
  {
   "cell_type": "code",
   "execution_count": 37,
   "id": "b12afa62-1133-4d4f-837e-e826d8da4ac4",
   "metadata": {},
   "outputs": [
    {
     "data": {
      "text/plain": [
       "False"
      ]
     },
     "execution_count": 37,
     "metadata": {},
     "output_type": "execute_result"
    }
   ],
   "source": [
    "40 in [10,20,30]"
   ]
  },
  {
   "cell_type": "code",
   "execution_count": 39,
   "id": "01f2beff-f760-48a4-9a27-66a0ac287181",
   "metadata": {},
   "outputs": [
    {
     "data": {
      "text/plain": [
       "True"
      ]
     },
     "execution_count": 39,
     "metadata": {},
     "output_type": "execute_result"
    }
   ],
   "source": [
    "not 40 in [10,20,30]"
   ]
  },
  {
   "cell_type": "code",
   "execution_count": 41,
   "id": "1def4627-fb59-48bd-90fe-f35eb9cbc2a8",
   "metadata": {},
   "outputs": [],
   "source": [
    "dictionary = {10:\"v1\", \"k1\":\"v2\", 20:20}"
   ]
  },
  {
   "cell_type": "code",
   "execution_count": 43,
   "id": "cbd83c90-cb5c-4133-b07b-76cf9dfe5c06",
   "metadata": {},
   "outputs": [
    {
     "data": {
      "text/plain": [
       "False"
      ]
     },
     "execution_count": 43,
     "metadata": {},
     "output_type": "execute_result"
    }
   ],
   "source": [
    "10 in dictionary.values()"
   ]
  },
  {
   "cell_type": "code",
   "execution_count": 49,
   "id": "716871ef-07fd-48ca-8b89-4576f3f5e507",
   "metadata": {},
   "outputs": [
    {
     "data": {
      "text/plain": [
       "True"
      ]
     },
     "execution_count": 49,
     "metadata": {},
     "output_type": "execute_result"
    }
   ],
   "source": [
    "\"k1\" in dictionary.keys()"
   ]
  },
  {
   "cell_type": "code",
   "execution_count": 51,
   "id": "e9cac128-015e-432d-948d-e60b43befe46",
   "metadata": {},
   "outputs": [
    {
     "data": {
      "text/plain": [
       "True"
      ]
     },
     "execution_count": 51,
     "metadata": {},
     "output_type": "execute_result"
    }
   ],
   "source": [
    "20 in dictionary.keys() and 20 in dictionary.values()"
   ]
  },
  {
   "cell_type": "markdown",
   "id": "300c935c-165e-465e-a74b-d370e05c502e",
   "metadata": {},
   "source": [
    "# CONTROLS"
   ]
  },
  {
   "cell_type": "code",
   "execution_count": 95,
   "id": "a4152780-1e6f-4d47-a375-dae51e0f43f5",
   "metadata": {},
   "outputs": [
    {
     "name": "stdin",
     "output_type": "stream",
     "text": [
      "Lütfen süper kahramanınızı giriniz:  batman\n"
     ]
    },
    {
     "name": "stdout",
     "output_type": "stream",
     "text": [
      "\n",
      "Your superhero is 'batman'!\n"
     ]
    }
   ],
   "source": [
    "superHero = str(input(\"Lütfen süper kahramanınızı giriniz: \"))\n",
    "\n",
    "if superHero == \"superman\":\n",
    "    print(\"\\nYour superhero is 'superman'!\")\n",
    "elif superHero == \"batman\":\n",
    "    print(\"\\nYour superhero is 'batman'!\")\n",
    "else:\n",
    "    print(\"Bye :(\")"
   ]
  },
  {
   "cell_type": "code",
   "execution_count": 115,
   "id": "81dee691-058e-4c5c-84f4-156de76b18b0",
   "metadata": {},
   "outputs": [
    {
     "name": "stdin",
     "output_type": "stream",
     "text": [
      "Lütfen yaşınızı giriniz:  89\n"
     ]
    },
    {
     "name": "stdout",
     "output_type": "stream",
     "text": [
      "age > 40\n"
     ]
    }
   ],
   "source": [
    "age = int(input(\"Lütfen yaşınızı giriniz: \"))\n",
    "\n",
    "if age >= 10 and age <= 20:\n",
    "    print(\"10 - age - 20\")\n",
    "elif age >= 20 and age <= 30:\n",
    "    print(\"20 - age - 30\")\n",
    "elif age >= 30 and age <= 40:\n",
    "    print(\"30 - age - 40\")\n",
    "elif age >= 40:\n",
    "    print(\"age > 40\")\n",
    "else:\n",
    "    print(\"age < 10\")"
   ]
  },
  {
   "cell_type": "code",
   "execution_count": 119,
   "id": "13fd087f-39be-4ade-859f-5324073e898a",
   "metadata": {},
   "outputs": [
    {
     "name": "stdin",
     "output_type": "stream",
     "text": [
      "Lütfen adınızı giriniz:  emre\n"
     ]
    },
    {
     "name": "stdout",
     "output_type": "stream",
     "text": [
      "\n",
      ":)\n"
     ]
    }
   ],
   "source": [
    "nameList = [\"emre\",\"azra\",\"ecrin\",\"onur\",\"umut\",\"ömer\"]\n",
    "\n",
    "name = str(input(\"Lütfen adınızı giriniz: \"))\n",
    "\n",
    "if name in nameList:\n",
    "    print(\"\\n:)\")\n",
    "else:\n",
    "    print(\"\\n:(\")"
   ]
  }
 ],
 "metadata": {
  "kernelspec": {
   "display_name": "Python 3 (ipykernel)",
   "language": "python",
   "name": "python3"
  },
  "language_info": {
   "codemirror_mode": {
    "name": "ipython",
    "version": 3
   },
   "file_extension": ".py",
   "mimetype": "text/x-python",
   "name": "python",
   "nbconvert_exporter": "python",
   "pygments_lexer": "ipython3",
   "version": "3.12.4"
  }
 },
 "nbformat": 4,
 "nbformat_minor": 5
}
