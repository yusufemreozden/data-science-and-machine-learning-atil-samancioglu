{
 "cells": [
  {
   "cell_type": "markdown",
   "id": "8ac9f3dc-5620-4c7a-adad-7ae5c0543270",
   "metadata": {},
   "source": [
    "# INHERITANCE"
   ]
  },
  {
   "cell_type": "markdown",
   "id": "7a65db2d-0748-4ef8-96ec-02e33066b410",
   "metadata": {},
   "source": [
    "Kalıtım almak demektir. Bir sınıfın başka bir sınıftan kalıtım alıp onun özelliklerini kullanılabilmesi yeteneğidir."
   ]
  },
  {
   "cell_type": "code",
   "execution_count": 270,
   "id": "9cafd62b-b17b-40ad-b485-3990112f3be3",
   "metadata": {},
   "outputs": [],
   "source": [
    "class Musicians():\n",
    "\n",
    "    def __init__(self,name):\n",
    "        self.name = name\n",
    "        print(\"musician class!\")\n",
    "    \n",
    "    def test1(self):\n",
    "        print(\"test1\")\n",
    "    \n",
    "    def test2(self):\n",
    "        print(\"test2\")"
   ]
  },
  {
   "cell_type": "code",
   "execution_count": 272,
   "id": "d9943f6c-dc35-4671-b028-fa2c61d00369",
   "metadata": {},
   "outputs": [
    {
     "name": "stdout",
     "output_type": "stream",
     "text": [
      "musician class!\n"
     ]
    }
   ],
   "source": [
    "canBonomo = Musicians(\"can bonomo\")"
   ]
  },
  {
   "cell_type": "code",
   "execution_count": 274,
   "id": "984a59a6-7da1-4d04-adf1-4a480139727a",
   "metadata": {},
   "outputs": [
    {
     "data": {
      "text/plain": [
       "'can bonomo'"
      ]
     },
     "execution_count": 274,
     "metadata": {},
     "output_type": "execute_result"
    }
   ],
   "source": [
    "canBonomo.name"
   ]
  },
  {
   "cell_type": "code",
   "execution_count": 276,
   "id": "53a19ee7-12f3-4eda-aaac-268bdb6740b8",
   "metadata": {},
   "outputs": [
    {
     "name": "stdout",
     "output_type": "stream",
     "text": [
      "test1\n"
     ]
    }
   ],
   "source": [
    "canBonomo.test1()"
   ]
  },
  {
   "cell_type": "code",
   "execution_count": 278,
   "id": "d9028c2d-c6da-4b05-86b7-6198bf6dab13",
   "metadata": {},
   "outputs": [
    {
     "name": "stdout",
     "output_type": "stream",
     "text": [
      "test2\n"
     ]
    }
   ],
   "source": [
    "canBonomo.test2()"
   ]
  },
  {
   "cell_type": "code",
   "execution_count": 280,
   "id": "541976c0-4ff5-40c0-b719-8f9c2d1c442f",
   "metadata": {},
   "outputs": [],
   "source": [
    "class MusiciansPlus(Musicians):\n",
    "\n",
    "    def __init__(self,name):\n",
    "        Musicians.__init__(self,name)\n",
    "        print(\"musicians plusss!!\")\n",
    "\n",
    "    def test3(self):\n",
    "        print(\"test3\")"
   ]
  },
  {
   "cell_type": "code",
   "execution_count": 282,
   "id": "5dab33f8-8ea1-453d-953f-766dd798980d",
   "metadata": {},
   "outputs": [
    {
     "name": "stdout",
     "output_type": "stream",
     "text": [
      "musician class!\n",
      "musicians plusss!!\n"
     ]
    }
   ],
   "source": [
    "sezenAksu = MusiciansPlus(\"sezen aksu\")"
   ]
  },
  {
   "cell_type": "code",
   "execution_count": 284,
   "id": "fd04dd6d-8b34-4aaf-b992-f0b90b5baf40",
   "metadata": {},
   "outputs": [
    {
     "name": "stdout",
     "output_type": "stream",
     "text": [
      "test1\n"
     ]
    }
   ],
   "source": [
    "sezenAksu.test1()"
   ]
  },
  {
   "cell_type": "code",
   "execution_count": 286,
   "id": "6a1620d8-f56c-4234-8478-1b038d8f35ca",
   "metadata": {},
   "outputs": [
    {
     "name": "stdout",
     "output_type": "stream",
     "text": [
      "test2\n"
     ]
    }
   ],
   "source": [
    "sezenAksu.test2()"
   ]
  },
  {
   "cell_type": "code",
   "execution_count": 288,
   "id": "6a6a0384-5575-42ba-9377-2c13291c9c54",
   "metadata": {},
   "outputs": [
    {
     "name": "stdout",
     "output_type": "stream",
     "text": [
      "test3\n"
     ]
    }
   ],
   "source": [
    "sezenAksu.test3()"
   ]
  },
  {
   "cell_type": "code",
   "execution_count": 290,
   "id": "c299813d-206e-4517-b8e6-cda5e087e4eb",
   "metadata": {},
   "outputs": [],
   "source": [
    "# canBonomo.test3() ÇALIŞMIYOR"
   ]
  },
  {
   "cell_type": "markdown",
   "id": "3f9b12c9-0855-4ca5-8858-87d4e31b88ea",
   "metadata": {},
   "source": [
    " "
   ]
  },
  {
   "cell_type": "markdown",
   "id": "22c1a9ec-e1cc-4ec8-a2fc-633b8ba3b55f",
   "metadata": {},
   "source": [
    "# POLYMORPHISM"
   ]
  },
  {
   "cell_type": "markdown",
   "id": "3ff06416-9d5c-4690-ad1d-7e3a1ff01cf9",
   "metadata": {},
   "source": [
    "Aynı isimle farklı işlevleri yapabilme anlamına gelir."
   ]
  },
  {
   "cell_type": "code",
   "execution_count": 295,
   "id": "53227741-45af-4939-af1f-2ee6ec7eda13",
   "metadata": {},
   "outputs": [],
   "source": [
    "class Banana():\n",
    "\n",
    "    def __init__(self,name):\n",
    "        self.name = name\n",
    "\n",
    "    def info(self):\n",
    "        return(f\"{self.name} is 100 kcal.\")"
   ]
  },
  {
   "cell_type": "code",
   "execution_count": 297,
   "id": "67868cba-ac62-4483-b41e-c280ee27dcb0",
   "metadata": {},
   "outputs": [],
   "source": [
    "class Apple():\n",
    "\n",
    "    def __init__(self,name):\n",
    "        self.name = name\n",
    "\n",
    "    def info(self):\n",
    "        return(f\"{self.name} is 150 kcal.\")"
   ]
  },
  {
   "cell_type": "code",
   "execution_count": 299,
   "id": "ea11217c-3d53-4314-9623-209a7a0447d1",
   "metadata": {},
   "outputs": [],
   "source": [
    "banana = Banana(\"banana\")"
   ]
  },
  {
   "cell_type": "code",
   "execution_count": 301,
   "id": "dc7532c2-e9a1-487a-863a-5c8c04ee8ce6",
   "metadata": {},
   "outputs": [],
   "source": [
    "apple = Apple(\"apple\")"
   ]
  },
  {
   "cell_type": "code",
   "execution_count": 303,
   "id": "676c3d96-aca8-4c87-9664-626f80475c38",
   "metadata": {},
   "outputs": [
    {
     "data": {
      "text/plain": [
       "'banana is 100 kcal.'"
      ]
     },
     "execution_count": 303,
     "metadata": {},
     "output_type": "execute_result"
    }
   ],
   "source": [
    "banana.info()"
   ]
  },
  {
   "cell_type": "code",
   "execution_count": 305,
   "id": "40d2d779-8e9c-4278-a2b9-32b6c7f3d4f0",
   "metadata": {},
   "outputs": [
    {
     "data": {
      "text/plain": [
       "'apple is 150 kcal.'"
      ]
     },
     "execution_count": 305,
     "metadata": {},
     "output_type": "execute_result"
    }
   ],
   "source": [
    "apple.info()"
   ]
  },
  {
   "cell_type": "code",
   "execution_count": 307,
   "id": "8d939ae8-c9da-4566-995d-c2d15aeb519a",
   "metadata": {},
   "outputs": [],
   "source": [
    "fruitList = [banana,apple]"
   ]
  },
  {
   "cell_type": "code",
   "execution_count": 309,
   "id": "c14a92ec-109c-4eed-8d8d-6ca6bcdf1c99",
   "metadata": {},
   "outputs": [
    {
     "name": "stdout",
     "output_type": "stream",
     "text": [
      "banana is 100 kcal.\n",
      "apple is 150 kcal.\n"
     ]
    }
   ],
   "source": [
    "for fruit in fruitList:\n",
    "    print(fruit.info())"
   ]
  },
  {
   "cell_type": "markdown",
   "id": "aeca034e-0433-4434-8a70-d3fcebf93d2f",
   "metadata": {},
   "source": [
    " "
   ]
  },
  {
   "cell_type": "markdown",
   "id": "55e14df3-223a-4064-9bc1-c212358b2994",
   "metadata": {},
   "source": [
    "# ENCAPSULATION"
   ]
  },
  {
   "cell_type": "markdown",
   "id": "3220635d-0a77-4c78-9d7a-0989c73fc541",
   "metadata": {},
   "source": [
    "Oluşturulan değişkenlerin erişelebilirliği ile ilgilidir. "
   ]
  },
  {
   "cell_type": "code",
   "execution_count": 314,
   "id": "9c355125-8b1f-4ba0-a4aa-1fdd87537353",
   "metadata": {},
   "outputs": [],
   "source": [
    "class Phone():\n",
    "\n",
    "    def __init__(self,name,price):\n",
    "        self.name = name\n",
    "        self.price = price\n",
    "\n",
    "    def info(self):\n",
    "        return(f\"the price of {self.name} is {self.price}\")"
   ]
  },
  {
   "cell_type": "code",
   "execution_count": 318,
   "id": "50ba4de9-1cfa-4bea-a05f-a3a238834e94",
   "metadata": {},
   "outputs": [],
   "source": [
    "iphone13 = Phone(\"iPhone 13\",\"33.000₺\")"
   ]
  },
  {
   "cell_type": "code",
   "execution_count": 320,
   "id": "e6cf8fd3-b425-4ac6-aa04-ee87ffe7ecff",
   "metadata": {},
   "outputs": [
    {
     "data": {
      "text/plain": [
       "'the price of iPhone 13 is 33.000₺'"
      ]
     },
     "execution_count": 320,
     "metadata": {},
     "output_type": "execute_result"
    }
   ],
   "source": [
    "iphone13.info()"
   ]
  },
  {
   "cell_type": "code",
   "execution_count": 322,
   "id": "fdd0dcfd-f178-43da-9a15-23dce6eb437c",
   "metadata": {},
   "outputs": [],
   "source": [
    "samsungS = Phone(\"Samsung S25\",\"55.000₺\")"
   ]
  },
  {
   "cell_type": "code",
   "execution_count": 324,
   "id": "5462e8cb-8ce5-4931-b9d9-c0334acbd48f",
   "metadata": {},
   "outputs": [
    {
     "data": {
      "text/plain": [
       "'the price of Samsung S25 is 55.000₺'"
      ]
     },
     "execution_count": 324,
     "metadata": {},
     "output_type": "execute_result"
    }
   ],
   "source": [
    "samsungS.info()"
   ]
  },
  {
   "cell_type": "code",
   "execution_count": 326,
   "id": "4fe86bbc-16a6-42f5-baf5-a86cc9454f3d",
   "metadata": {},
   "outputs": [
    {
     "data": {
      "text/plain": [
       "'33.000₺'"
      ]
     },
     "execution_count": 326,
     "metadata": {},
     "output_type": "execute_result"
    }
   ],
   "source": [
    "iphone13.price"
   ]
  },
  {
   "cell_type": "code",
   "execution_count": 328,
   "id": "f6618fa6-ee84-4726-ac4b-99997c2a2533",
   "metadata": {},
   "outputs": [],
   "source": [
    "iphone13.price = \"40.000₺\""
   ]
  },
  {
   "cell_type": "code",
   "execution_count": 330,
   "id": "ec82486d-0a13-4acb-8483-7de8ce128267",
   "metadata": {},
   "outputs": [
    {
     "data": {
      "text/plain": [
       "'40.000₺'"
      ]
     },
     "execution_count": 330,
     "metadata": {},
     "output_type": "execute_result"
    }
   ],
   "source": [
    "iphone13.price"
   ]
  },
  {
   "cell_type": "code",
   "execution_count": 332,
   "id": "d44c7c4f-e79f-4f64-9111-a69d520616ca",
   "metadata": {},
   "outputs": [
    {
     "data": {
      "text/plain": [
       "'the price of iPhone 13 is 40.000₺'"
      ]
     },
     "execution_count": 332,
     "metadata": {},
     "output_type": "execute_result"
    }
   ],
   "source": [
    "iphone13.info()"
   ]
  },
  {
   "cell_type": "code",
   "execution_count": 334,
   "id": "26cdd04c-c501-40c8-ab01-31f66631414d",
   "metadata": {},
   "outputs": [],
   "source": [
    "# FİYATI KOLAYCA DEĞİŞTİ. AMA BEN DEĞİŞMESİNİ İSTEMİYORUM ÇÜNKÜ FİYAT DEĞİŞTİRİLİRSE ZARAR EDEBİLİRİM."
   ]
  },
  {
   "cell_type": "code",
   "execution_count": 336,
   "id": "6ce34e7a-8266-44cf-8299-f76b270dd43e",
   "metadata": {},
   "outputs": [],
   "source": [
    "class Phone():\n",
    "\n",
    "    def __init__(self,name,price):\n",
    "        self.name = name\n",
    "        self.__price = price # İKİ TANE ALT TİRE KOYDUM\n",
    "\n",
    "    def info(self):\n",
    "        return(f\"the price of {self.name} is {self.__price}\") # İKİ TANE ALT TİRE KOYDUM"
   ]
  },
  {
   "cell_type": "code",
   "execution_count": 338,
   "id": "4b74f604-0d1c-4880-aa26-37d3c27393bb",
   "metadata": {},
   "outputs": [],
   "source": [
    "iphone11 = Phone(\"iPhone 11\",\"22.000₺\")"
   ]
  },
  {
   "cell_type": "code",
   "execution_count": 340,
   "id": "70ee84c0-1f65-4380-aeac-7c2c7e41dad7",
   "metadata": {},
   "outputs": [
    {
     "data": {
      "text/plain": [
       "'the price of iPhone 11 is 22.000₺'"
      ]
     },
     "execution_count": 340,
     "metadata": {},
     "output_type": "execute_result"
    }
   ],
   "source": [
    "iphone11.info()"
   ]
  },
  {
   "cell_type": "code",
   "execution_count": 342,
   "id": "6808ca3b-7af3-4518-aa22-ab9f190a644d",
   "metadata": {},
   "outputs": [
    {
     "data": {
      "text/plain": [
       "'iPhone 11'"
      ]
     },
     "execution_count": 342,
     "metadata": {},
     "output_type": "execute_result"
    }
   ],
   "source": [
    "iphone11.name"
   ]
  },
  {
   "cell_type": "markdown",
   "id": "eef159e2-6f6a-4b2d-afa1-f4327147b07b",
   "metadata": {},
   "source": [
    " "
   ]
  },
  {
   "cell_type": "markdown",
   "id": "3a13d619-a444-4e3d-85f5-2a0c2ce74ab9",
   "metadata": {},
   "source": [
    "# ABSTRACTION"
   ]
  },
  {
   "cell_type": "markdown",
   "id": "7e0db29c-8c8e-4bbf-9b86-073469044275",
   "metadata": {},
   "source": [
    "Soyutlama demektir. Bize sanal bir blueprint sağlayabilir ve plana öncülük edebilir"
   ]
  },
  {
   "cell_type": "code",
   "execution_count": 347,
   "id": "5730c0cc-09e3-44fa-80e0-5ab3d0af6552",
   "metadata": {},
   "outputs": [],
   "source": [
    "from abc import ABC,abstractmethod"
   ]
  },
  {
   "cell_type": "code",
   "execution_count": 381,
   "id": "a7952d83-a696-48a4-951b-82a0438bb31b",
   "metadata": {},
   "outputs": [],
   "source": [
    "class Car(ABC):\n",
    "\n",
    "    @abstractmethod\n",
    "    def maxSpeed(self):\n",
    "        pass"
   ]
  },
  {
   "cell_type": "code",
   "execution_count": 383,
   "id": "fbb1a70c-5b7d-4f38-a3ae-8815bb51fca0",
   "metadata": {},
   "outputs": [],
   "source": [
    "#myCar = Car()"
   ]
  },
  {
   "cell_type": "code",
   "execution_count": 385,
   "id": "c0346bf8-e01d-404e-bac1-d53973c3fba4",
   "metadata": {},
   "outputs": [],
   "source": [
    "class Tesla(Car):\n",
    "    \n",
    "    def maxSpeed(self):\n",
    "        return 165"
   ]
  },
  {
   "cell_type": "code",
   "execution_count": 387,
   "id": "81e3a9a6-ec51-4593-aa69-52788ecbe489",
   "metadata": {},
   "outputs": [],
   "source": [
    "tesla = Tesla()"
   ]
  },
  {
   "cell_type": "code",
   "execution_count": 389,
   "id": "25811ecc-8c21-49bd-913c-5e9f68a75fe5",
   "metadata": {},
   "outputs": [
    {
     "data": {
      "text/plain": [
       "165"
      ]
     },
     "execution_count": 389,
     "metadata": {},
     "output_type": "execute_result"
    }
   ],
   "source": [
    "tesla.maxSpeed()"
   ]
  },
  {
   "cell_type": "code",
   "execution_count": 391,
   "id": "c799b10a-36da-4c34-b6bf-b5f7fa228c70",
   "metadata": {},
   "outputs": [],
   "source": [
    "class Mercedes(Car):\n",
    "\n",
    "    def maxSpeed(self):\n",
    "        return 200"
   ]
  },
  {
   "cell_type": "code",
   "execution_count": 393,
   "id": "89e5cc16-df9f-4ac2-a7a4-c6ff0aecaee6",
   "metadata": {},
   "outputs": [],
   "source": [
    "mercedes = Mercedes()"
   ]
  },
  {
   "cell_type": "code",
   "execution_count": 395,
   "id": "603fdf5c-0046-45d7-9d36-adf84cf1c954",
   "metadata": {},
   "outputs": [
    {
     "data": {
      "text/plain": [
       "200"
      ]
     },
     "execution_count": 395,
     "metadata": {},
     "output_type": "execute_result"
    }
   ],
   "source": [
    "mercedes.maxSpeed()"
   ]
  }
 ],
 "metadata": {
  "kernelspec": {
   "display_name": "Python 3 (ipykernel)",
   "language": "python",
   "name": "python3"
  },
  "language_info": {
   "codemirror_mode": {
    "name": "ipython",
    "version": 3
   },
   "file_extension": ".py",
   "mimetype": "text/x-python",
   "name": "python",
   "nbconvert_exporter": "python",
   "pygments_lexer": "ipython3",
   "version": "3.12.4"
  }
 },
 "nbformat": 4,
 "nbformat_minor": 5
}
